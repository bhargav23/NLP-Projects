{
  "nbformat": 4,
  "nbformat_minor": 0,
  "metadata": {
    "accelerator": "GPU",
    "colab": {
      "name": "Copy of 1 - Simple Sentiment Analysis.ipynb",
      "provenance": [],
      "collapsed_sections": [
        "O7x9mFEM9HrP"
      ],
      "include_colab_link": true
    },
    "kernelspec": {
      "display_name": "Python 3",
      "language": "python",
      "name": "python3"
    },
    "language_info": {
      "codemirror_mode": {
        "name": "ipython",
        "version": 3
      },
      "file_extension": ".py",
      "mimetype": "text/x-python",
      "name": "python",
      "nbconvert_exporter": "python",
      "pygments_lexer": "ipython3",
      "version": "3.7.0"
    }
  },
  "cells": [
    {
      "cell_type": "markdown",
      "metadata": {
        "id": "view-in-github",
        "colab_type": "text"
      },
      "source": [
        "<a href=\"https://colab.research.google.com/github/bhargav23/NLP-Projects/blob/main/Simple_Sentiment_Analysis_11-01-2021.ipynb\" target=\"_parent\"><img src=\"https://colab.research.google.com/assets/colab-badge.svg\" alt=\"Open In Colab\"/></a>"
      ]
    },
    {
      "cell_type": "markdown",
      "metadata": {
        "id": "Fz7wwv179Hp0"
      },
      "source": [
        "# 1 - Simple Sentiment Analysis\n",
        "\n",
        "In this series we'll be building a machine learning model to detect sentiment (i.e. detect if a sentence is positive or negative) using PyTorch and TorchText. This will be done on movie reviews, using the [IMDb dataset](http://ai.stanford.edu/~amaas/data/sentiment/).\n",
        "\n",
        "In this first notebook, we'll start very simple to understand the general concepts whilst not really caring about good results. Further notebooks will build on this knowledge and we'll actually get good results.\n",
        "\n",
        "### Introduction\n",
        "\n",
        "We'll be using a **recurrent neural network** (RNN) as they are commonly used in analysing sequences. An RNN takes in sequence of words, $X=\\{x_1, ..., x_T\\}$, one at a time, and produces a _hidden state_, $h$, for each word. We use the RNN _recurrently_ by feeding in the current word $x_t$ as well as the hidden state from the previous word, $h_{t-1}$, to produce the next hidden state, $h_t$. \n",
        "\n",
        "$$h_t = \\text{RNN}(x_t, h_{t-1})$$\n",
        "\n",
        "Once we have our final hidden state, $h_T$, (from feeding in the last word in the sequence, $x_T$) we feed it through a linear layer, $f$, (also known as a fully connected layer), to receive our predicted sentiment, $\\hat{y} = f(h_T)$.\n",
        "\n",
        "Below shows an example sentence, with the RNN predicting zero, which indicates a negative sentiment. The RNN is shown in orange and the linear layer shown in silver. Note that we use the same RNN for every word, i.e. it has the same parameters. The initial hidden state, $h_0$, is a tensor initialized to all zeros. \n",
        "\n",
        "![](https://github.com/bentrevett/pytorch-sentiment-analysis/blob/master/assets/sentiment1.png?raw=1)\n",
        "\n",
        "**Note:** some layers and steps have been omitted from the diagram, but these will be explained later."
      ]
    },
    {
      "cell_type": "markdown",
      "metadata": {
        "id": "1c94rfnW9Hp1"
      },
      "source": [
        "## Preparing Data\n",
        "\n",
        "One of the main concepts of TorchText is the `Field`. These define how your data should be processed. In our sentiment classification task the data consists of both the raw string of the review and the sentiment, either \"pos\" or \"neg\".\n",
        "\n",
        "The parameters of a `Field` specify how the data should be processed. \n",
        "\n",
        "We use the `TEXT` field to define how the review should be processed, and the `LABEL` field to process the sentiment. \n",
        "\n",
        "Our `TEXT` field has `tokenize='spacy'` as an argument. This defines that the \"tokenization\" (the act of splitting the string into discrete \"tokens\") should be done using the [spaCy](https://spacy.io) tokenizer. If no `tokenize` argument is passed, the default is simply splitting the string on spaces.\n",
        "\n",
        "`LABEL` is defined by a `LabelField`, a special subset of the `Field` class specifically used for handling labels. We will explain the `dtype` argument later.\n",
        "\n",
        "For more on `Fields`, go [here](https://github.com/pytorch/text/blob/master/torchtext/data/field.py).\n",
        "\n",
        "We also set the random seeds for reproducibility. "
      ]
    },
    {
      "cell_type": "code",
      "metadata": {
        "id": "rnrCyDCp9OKm"
      },
      "source": [
        "!pip install -q kaggle"
      ],
      "execution_count": null,
      "outputs": []
    },
    {
      "cell_type": "code",
      "metadata": {
        "id": "k4Jy0lvO9RH-",
        "colab": {
          "resources": {
            "http://localhost:8080/nbextensions/google.colab/files.js": {
              "data": "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",
              "ok": true,
              "headers": [
                [
                  "content-type",
                  "application/javascript"
                ]
              ],
              "status": 200,
              "status_text": ""
            }
          },
          "base_uri": "https://localhost:8080/",
          "height": 89
        },
        "outputId": "1b064243-688a-4ce5-8a8e-9347a9e16286"
      },
      "source": [
        "from google.colab import files\n",
        "files.upload()"
      ],
      "execution_count": null,
      "outputs": [
        {
          "output_type": "display_data",
          "data": {
            "text/html": [
              "\n",
              "     <input type=\"file\" id=\"files-31b18c0f-9b09-4fae-a0fb-1cc697227045\" name=\"files[]\" multiple disabled\n",
              "        style=\"border:none\" />\n",
              "     <output id=\"result-31b18c0f-9b09-4fae-a0fb-1cc697227045\">\n",
              "      Upload widget is only available when the cell has been executed in the\n",
              "      current browser session. Please rerun this cell to enable.\n",
              "      </output>\n",
              "      <script src=\"/nbextensions/google.colab/files.js\"></script> "
            ],
            "text/plain": [
              "<IPython.core.display.HTML object>"
            ]
          },
          "metadata": {
            "tags": []
          }
        },
        {
          "output_type": "stream",
          "text": [
            "Saving kaggle.json to kaggle.json\n"
          ],
          "name": "stdout"
        },
        {
          "output_type": "execute_result",
          "data": {
            "text/plain": [
              "{'kaggle.json': b'{\"username\":\"bhargav23\",\"key\":\"2af4a1f81e53cbe18d6150037d44abcb\"}'}"
            ]
          },
          "metadata": {
            "tags": []
          },
          "execution_count": 2
        }
      ]
    },
    {
      "cell_type": "code",
      "metadata": {
        "id": "uTf7OOCz9cTv"
      },
      "source": [
        "!mkdir ~/.kaggle\n",
        "!cp kaggle.json ~/.kaggle/\n",
        "!chmod 600 ~/.kaggle/kaggle.json"
      ],
      "execution_count": null,
      "outputs": []
    },
    {
      "cell_type": "code",
      "metadata": {
        "id": "-JOAaV999fRO",
        "colab": {
          "base_uri": "https://localhost:8080/"
        },
        "outputId": "614e3a5a-897c-4c19-8f3d-d2a013bd2671"
      },
      "source": [
        "!kaggle datasets download -d snap/amazon-fine-food-reviews"
      ],
      "execution_count": null,
      "outputs": [
        {
          "output_type": "stream",
          "text": [
            "Downloading amazon-fine-food-reviews.zip to /content\n",
            " 94% 228M/242M [00:01<00:00, 198MB/s]\n",
            "100% 242M/242M [00:01<00:00, 172MB/s]\n"
          ],
          "name": "stdout"
        }
      ]
    },
    {
      "cell_type": "code",
      "metadata": {
        "id": "LRabIgri90ZY",
        "colab": {
          "base_uri": "https://localhost:8080/"
        },
        "outputId": "4df1b586-d0ac-43bc-f660-85410e7871d8"
      },
      "source": [
        "!unzip amazon-fine-food-reviews.zip -d data"
      ],
      "execution_count": null,
      "outputs": [
        {
          "output_type": "stream",
          "text": [
            "Archive:  amazon-fine-food-reviews.zip\n",
            "  inflating: data/Reviews.csv        \n",
            "  inflating: data/database.sqlite    \n",
            "  inflating: data/hashes.txt         \n"
          ],
          "name": "stdout"
        }
      ]
    },
    {
      "cell_type": "code",
      "metadata": {
        "id": "H5CxUXM590XY"
      },
      "source": [
        "DATA_PATH = 'data/Reviews.csv'"
      ],
      "execution_count": null,
      "outputs": []
    },
    {
      "cell_type": "code",
      "metadata": {
        "id": "UohfTqlx_LpD"
      },
      "source": [
        "import pandas as pd\n",
        "import numpy as np"
      ],
      "execution_count": null,
      "outputs": []
    },
    {
      "cell_type": "code",
      "metadata": {
        "id": "s2EZtFnA-S5f"
      },
      "source": [
        "odf = pd.read_csv('data/Reviews.csv')"
      ],
      "execution_count": null,
      "outputs": []
    },
    {
      "cell_type": "code",
      "metadata": {
        "id": "sRJ6HBGO-otf"
      },
      "source": [
        "df = odf[odf['Score'] != 3]\n",
        "X = df['Text']\n",
        "y_dict = {1:0, 2:0, 4:1, 5:1}\n",
        "y = df['Score'].map(y_dict)"
      ],
      "execution_count": null,
      "outputs": []
    },
    {
      "cell_type": "code",
      "metadata": {
        "id": "pKTdTGtPAP36"
      },
      "source": [
        "import torch"
      ],
      "execution_count": null,
      "outputs": []
    },
    {
      "cell_type": "code",
      "metadata": {
        "id": "zyN9ALIhJjwm"
      },
      "source": [
        "TEXT = pd.Series(X,name=\"Text\")\n",
        "train_df = pd.concat([TEXT, y], axis=1)"
      ],
      "execution_count": null,
      "outputs": []
    },
    {
      "cell_type": "code",
      "metadata": {
        "colab": {
          "base_uri": "https://localhost:8080/"
        },
        "id": "zd2z9rFqUY1E",
        "outputId": "97b170bd-820d-4088-d9cb-3e28a2377ae1"
      },
      "source": [
        "train_df['Score'].dtype"
      ],
      "execution_count": null,
      "outputs": [
        {
          "output_type": "execute_result",
          "data": {
            "text/plain": [
              "dtype('int64')"
            ]
          },
          "metadata": {
            "tags": []
          },
          "execution_count": 12
        }
      ]
    },
    {
      "cell_type": "code",
      "metadata": {
        "id": "cbcYBuXNLXL1",
        "colab": {
          "base_uri": "https://localhost:8080/",
          "height": 204
        },
        "outputId": "b870d174-e2ea-4363-f6e4-4436432eec91"
      },
      "source": [
        "train_df.tail()"
      ],
      "execution_count": null,
      "outputs": [
        {
          "output_type": "execute_result",
          "data": {
            "text/html": [
              "<div>\n",
              "<style scoped>\n",
              "    .dataframe tbody tr th:only-of-type {\n",
              "        vertical-align: middle;\n",
              "    }\n",
              "\n",
              "    .dataframe tbody tr th {\n",
              "        vertical-align: top;\n",
              "    }\n",
              "\n",
              "    .dataframe thead th {\n",
              "        text-align: right;\n",
              "    }\n",
              "</style>\n",
              "<table border=\"1\" class=\"dataframe\">\n",
              "  <thead>\n",
              "    <tr style=\"text-align: right;\">\n",
              "      <th></th>\n",
              "      <th>Text</th>\n",
              "      <th>Score</th>\n",
              "    </tr>\n",
              "  </thead>\n",
              "  <tbody>\n",
              "    <tr>\n",
              "      <th>568449</th>\n",
              "      <td>Great for sesame chicken..this is a good if no...</td>\n",
              "      <td>1</td>\n",
              "    </tr>\n",
              "    <tr>\n",
              "      <th>568450</th>\n",
              "      <td>I'm disappointed with the flavor. The chocolat...</td>\n",
              "      <td>0</td>\n",
              "    </tr>\n",
              "    <tr>\n",
              "      <th>568451</th>\n",
              "      <td>These stars are small, so you can give 10-15 o...</td>\n",
              "      <td>1</td>\n",
              "    </tr>\n",
              "    <tr>\n",
              "      <th>568452</th>\n",
              "      <td>These are the BEST treats for training and rew...</td>\n",
              "      <td>1</td>\n",
              "    </tr>\n",
              "    <tr>\n",
              "      <th>568453</th>\n",
              "      <td>I am very satisfied ,product is as advertised,...</td>\n",
              "      <td>1</td>\n",
              "    </tr>\n",
              "  </tbody>\n",
              "</table>\n",
              "</div>"
            ],
            "text/plain": [
              "                                                     Text  Score\n",
              "568449  Great for sesame chicken..this is a good if no...      1\n",
              "568450  I'm disappointed with the flavor. The chocolat...      0\n",
              "568451  These stars are small, so you can give 10-15 o...      1\n",
              "568452  These are the BEST treats for training and rew...      1\n",
              "568453  I am very satisfied ,product is as advertised,...      1"
            ]
          },
          "metadata": {
            "tags": []
          },
          "execution_count": 13
        }
      ]
    },
    {
      "cell_type": "code",
      "metadata": {
        "id": "QmevW-yAKbXK",
        "colab": {
          "base_uri": "https://localhost:8080/"
        },
        "outputId": "1836ed63-b071-49a5-eeca-507c9c77ac58"
      },
      "source": [
        "train_df.dtypes"
      ],
      "execution_count": null,
      "outputs": [
        {
          "output_type": "execute_result",
          "data": {
            "text/plain": [
              "Text     object\n",
              "Score     int64\n",
              "dtype: object"
            ]
          },
          "metadata": {
            "tags": []
          },
          "execution_count": 14
        }
      ]
    },
    {
      "cell_type": "code",
      "metadata": {
        "id": "PlZ6VcSl9Hp2",
        "colab": {
          "base_uri": "https://localhost:8080/",
          "height": 52
        },
        "outputId": "25415d15-64a0-460f-e5ba-95b58722e80b"
      },
      "source": [
        "from torchtext import data\n",
        " \n",
        "SEED = 1234\n",
        " \n",
        "torch.manual_seed(SEED)\n",
        "torch.backends.cudnn.deterministic = True\n",
        " \n",
        "\n",
        "TEXT = data.Field(tokenize = 'spacy')\n",
        "SCORE = data.LabelField(dtype = torch.float)\n",
        "\n",
        "\"\"\"\n",
        "import torch\n",
        "from torchtext import data\n",
        " \n",
        "SEED = 1234\n",
        " \n",
        "torch.manual_seed(SEED)\n",
        "torch.backends.cudnn.deterministic = True\n",
        " \n",
        "TEXT = data.Field(tokenize = 'spacy')\n",
        "LABEL = data.LabelField(dtype = torch.float)\n",
        "\"\"\""
      ],
      "execution_count": null,
      "outputs": [
        {
          "output_type": "execute_result",
          "data": {
            "application/vnd.google.colaboratory.intrinsic+json": {
              "type": "string"
            },
            "text/plain": [
              "\"\\nimport torch\\nfrom torchtext import data\\n \\nSEED = 1234\\n \\ntorch.manual_seed(SEED)\\ntorch.backends.cudnn.deterministic = True\\n \\nTEXT = data.Field(tokenize = 'spacy')\\nLABEL = data.LabelField(dtype = torch.float)\\n\""
            ]
          },
          "metadata": {
            "tags": []
          },
          "execution_count": 15
        }
      ]
    },
    {
      "cell_type": "markdown",
      "metadata": {
        "id": "1aQY3ukM9Hp8"
      },
      "source": [
        "Another handy feature of TorchText is that it has support for common datasets used in natural language processing (NLP). \n",
        "\n",
        "The following code automatically downloads the IMDb dataset and splits it into the canonical train/test splits as `torchtext.datasets` objects. It process the data using the `Fields` we have previously defined. The IMDb dataset consists of 50,000 movie reviews, each marked as being a positive or negative review."
      ]
    },
    {
      "cell_type": "code",
      "metadata": {
        "id": "Se8CMqko9Hp8"
      },
      "source": [
        "from sklearn.model_selection import train_test_split\n",
        "train_data, test_data = train_test_split(train_df, test_size=0.2, random_state=42, shuffle=True)"
      ],
      "execution_count": null,
      "outputs": []
    },
    {
      "cell_type": "markdown",
      "metadata": {
        "id": "hR6NCjti9HqA"
      },
      "source": [
        "We can see how many examples are in each split by checking their length."
      ]
    },
    {
      "cell_type": "code",
      "metadata": {
        "id": "t7gUbpum9HqA",
        "colab": {
          "base_uri": "https://localhost:8080/"
        },
        "outputId": "5b45987c-5c72-48d3-cb90-de0687c0d108"
      },
      "source": [
        "print(f'Number of training examples: {len(train_data)}')\n",
        "print(f'Number of testing examples: {len(test_data)}')"
      ],
      "execution_count": null,
      "outputs": [
        {
          "output_type": "stream",
          "text": [
            "Number of training examples: 420651\n",
            "Number of testing examples: 105163\n"
          ],
          "name": "stdout"
        }
      ]
    },
    {
      "cell_type": "markdown",
      "metadata": {
        "id": "9eTse_SY9HqF"
      },
      "source": [
        "We can also check an example."
      ]
    },
    {
      "cell_type": "markdown",
      "metadata": {
        "id": "71Zct14h9HqK"
      },
      "source": [
        "The IMDb dataset only has train/test splits, so we need to create a validation set. We can do this with the `.split()` method. \n",
        "\n",
        "By default this splits 70/30, however by passing a `split_ratio` argument, we can change the ratio of the split, i.e. a `split_ratio` of 0.8 would mean 80% of the examples make up the training set and 20% make up the validation set. \n",
        "\n",
        "We also pass our random seed to the `random_state` argument, ensuring that we get the same train/validation split each time."
      ]
    },
    {
      "cell_type": "code",
      "metadata": {
        "id": "k0OMfo_B9HqL"
      },
      "source": [
        "import random\n",
        "SEED = 1234\n",
        "train_data, valid_data = train_test_split(train_data,random_state = random.seed(SEED))"
      ],
      "execution_count": null,
      "outputs": []
    },
    {
      "cell_type": "markdown",
      "metadata": {
        "id": "AUggR7lX9HqO"
      },
      "source": [
        "Again, we'll view how many examples are in each split."
      ]
    },
    {
      "cell_type": "code",
      "metadata": {
        "id": "wOekZns49HqO",
        "colab": {
          "base_uri": "https://localhost:8080/"
        },
        "outputId": "83ed34b9-b69c-4cc8-d030-6b23eb3fcaee"
      },
      "source": [
        "print(f'Number of training examples: {len(train_data)}')\n",
        "print(f'Number of validation examples: {len(valid_data)}')\n",
        "print(f'Number of testing examples: {len(test_data)}')"
      ],
      "execution_count": null,
      "outputs": [
        {
          "output_type": "stream",
          "text": [
            "Number of training examples: 315488\n",
            "Number of validation examples: 105163\n",
            "Number of testing examples: 105163\n"
          ],
          "name": "stdout"
        }
      ]
    },
    {
      "cell_type": "code",
      "metadata": {
        "id": "nFa7KUI4FNT5"
      },
      "source": [
        "fields = [(None,None),('t', TEXT),('s', SCORE)]"
      ],
      "execution_count": null,
      "outputs": []
    },
    {
      "cell_type": "code",
      "metadata": {
        "colab": {
          "base_uri": "https://localhost:8080/"
        },
        "id": "FAPe16AKVcDK",
        "outputId": "b27faae1-edcf-44e8-f297-19213162c177"
      },
      "source": [
        "fields"
      ],
      "execution_count": null,
      "outputs": [
        {
          "output_type": "execute_result",
          "data": {
            "text/plain": [
              "[(None, None),\n",
              " ('t', <torchtext.data.field.Field at 0x7f9ef0eb12e8>),\n",
              " ('s', <torchtext.data.field.LabelField at 0x7f9ef0eb1438>)]"
            ]
          },
          "metadata": {
            "tags": []
          },
          "execution_count": 21
        }
      ]
    },
    {
      "cell_type": "code",
      "metadata": {
        "id": "DG1xXAp3Fg3i"
      },
      "source": [
        "train_data.to_csv('train.csv')\n",
        "valid_data.to_csv('valid.csv')\n",
        "test_data.to_csv('test.csv')"
      ],
      "execution_count": null,
      "outputs": []
    },
    {
      "cell_type": "code",
      "metadata": {
        "colab": {
          "base_uri": "https://localhost:8080/",
          "height": 419
        },
        "id": "O-5o_1liZsl5",
        "outputId": "b3b2b711-5785-4644-96fd-e6ad506ea0fc"
      },
      "source": [
        "train_data"
      ],
      "execution_count": null,
      "outputs": [
        {
          "output_type": "execute_result",
          "data": {
            "text/html": [
              "<div>\n",
              "<style scoped>\n",
              "    .dataframe tbody tr th:only-of-type {\n",
              "        vertical-align: middle;\n",
              "    }\n",
              "\n",
              "    .dataframe tbody tr th {\n",
              "        vertical-align: top;\n",
              "    }\n",
              "\n",
              "    .dataframe thead th {\n",
              "        text-align: right;\n",
              "    }\n",
              "</style>\n",
              "<table border=\"1\" class=\"dataframe\">\n",
              "  <thead>\n",
              "    <tr style=\"text-align: right;\">\n",
              "      <th></th>\n",
              "      <th>Text</th>\n",
              "      <th>Score</th>\n",
              "    </tr>\n",
              "  </thead>\n",
              "  <tbody>\n",
              "    <tr>\n",
              "      <th>256238</th>\n",
              "      <td>I am a fan of Yogi Teas to start.  This tea is...</td>\n",
              "      <td>1</td>\n",
              "    </tr>\n",
              "    <tr>\n",
              "      <th>429204</th>\n",
              "      <td>I'm extremely picky when it comes to coffe fla...</td>\n",
              "      <td>1</td>\n",
              "    </tr>\n",
              "    <tr>\n",
              "      <th>240628</th>\n",
              "      <td>Oh my god, this PB is delicious.  It's made lo...</td>\n",
              "      <td>1</td>\n",
              "    </tr>\n",
              "    <tr>\n",
              "      <th>361601</th>\n",
              "      <td>I couldn't find it anywhere else. It was at a ...</td>\n",
              "      <td>1</td>\n",
              "    </tr>\n",
              "    <tr>\n",
              "      <th>400360</th>\n",
              "      <td>My partner and I both work from home, and so w...</td>\n",
              "      <td>1</td>\n",
              "    </tr>\n",
              "    <tr>\n",
              "      <th>...</th>\n",
              "      <td>...</td>\n",
              "      <td>...</td>\n",
              "    </tr>\n",
              "    <tr>\n",
              "      <th>321256</th>\n",
              "      <td>The KIND HEALTHY GRAINS CINNAMON OAT CLUSTERS ...</td>\n",
              "      <td>1</td>\n",
              "    </tr>\n",
              "    <tr>\n",
              "      <th>25620</th>\n",
              "      <td>Excellent product. Geart service!  I bought th...</td>\n",
              "      <td>1</td>\n",
              "    </tr>\n",
              "    <tr>\n",
              "      <th>101465</th>\n",
              "      <td>Was a great learning/teaching tool for small t...</td>\n",
              "      <td>1</td>\n",
              "    </tr>\n",
              "    <tr>\n",
              "      <th>184030</th>\n",
              "      <td>I purchased 2 sets of these.  I will be purcha...</td>\n",
              "      <td>1</td>\n",
              "    </tr>\n",
              "    <tr>\n",
              "      <th>292118</th>\n",
              "      <td>It is expensive, but the price on Amazon is a ...</td>\n",
              "      <td>1</td>\n",
              "    </tr>\n",
              "  </tbody>\n",
              "</table>\n",
              "<p>315488 rows × 2 columns</p>\n",
              "</div>"
            ],
            "text/plain": [
              "                                                     Text  Score\n",
              "256238  I am a fan of Yogi Teas to start.  This tea is...      1\n",
              "429204  I'm extremely picky when it comes to coffe fla...      1\n",
              "240628  Oh my god, this PB is delicious.  It's made lo...      1\n",
              "361601  I couldn't find it anywhere else. It was at a ...      1\n",
              "400360  My partner and I both work from home, and so w...      1\n",
              "...                                                   ...    ...\n",
              "321256  The KIND HEALTHY GRAINS CINNAMON OAT CLUSTERS ...      1\n",
              "25620   Excellent product. Geart service!  I bought th...      1\n",
              "101465  Was a great learning/teaching tool for small t...      1\n",
              "184030  I purchased 2 sets of these.  I will be purcha...      1\n",
              "292118  It is expensive, but the price on Amazon is a ...      1\n",
              "\n",
              "[315488 rows x 2 columns]"
            ]
          },
          "metadata": {
            "tags": []
          },
          "execution_count": 23
        }
      ]
    },
    {
      "cell_type": "code",
      "metadata": {
        "id": "x6csLwDvFcTx"
      },
      "source": [
        "train_data, valid_data, test_data = data.TabularDataset.splits(\n",
        "                                        path = '',\n",
        "                                        train = 'train.csv',\n",
        "                                        validation = 'valid.csv',\n",
        "                                        test = 'test.csv',\n",
        "                                        format = 'csv',\n",
        "                                        fields = fields,\n",
        "                                        skip_header = True\n",
        ")"
      ],
      "execution_count": null,
      "outputs": []
    },
    {
      "cell_type": "code",
      "metadata": {
        "id": "qn7xF59BX3AL",
        "colab": {
          "base_uri": "https://localhost:8080/"
        },
        "outputId": "bb9fed4b-99f3-478f-8b3c-069b6cec26ce"
      },
      "source": [
        "print(vars(train_data[0]))"
      ],
      "execution_count": null,
      "outputs": [
        {
          "output_type": "stream",
          "text": [
            "{'t': ['I', 'am', 'a', 'fan', 'of', 'Yogi', 'Teas', 'to', 'start', '.', ' ', 'This', 'tea', 'is', 'just', 'the', 'right', 'combination', 'of', 'mint', ',', 'herbs', 'and', 'sweetness', '.', ' ', 'I', 'like', 'mine', 'with', 'a', 'half', 'teaspoon', 'of', 'honey', '.', ' ', 'I', 'have', 'heard', 'that', 'other', 'mothers', 'religious', 'drank', 'this', 'tea', 'and', 'had', 'easier', 'labors', 'and', 'deliveries', '.', ' ', 'We', \"'ll\", 'see', 'if', 'it', 'works', 'for', 'me', '.'], 's': '1'}\n"
          ],
          "name": "stdout"
        }
      ]
    },
    {
      "cell_type": "code",
      "metadata": {
        "id": "_xVxAQ0rQywB",
        "colab": {
          "base_uri": "https://localhost:8080/"
        },
        "outputId": "545e044c-bdc3-4dee-bfbc-bf09b2020a16"
      },
      "source": [
        "train_data.examples"
      ],
      "execution_count": null,
      "outputs": [
        {
          "output_type": "execute_result",
          "data": {
            "text/plain": [
              "[<torchtext.data.example.Example at 0x7f9f3e7e44e0>,\n",
              " <torchtext.data.example.Example at 0x7f9e8cc1aeb8>,\n",
              " <torchtext.data.example.Example at 0x7f9e8cc1af60>,\n",
              " <torchtext.data.example.Example at 0x7f9e8cc1a978>,\n",
              " <torchtext.data.example.Example at 0x7f9e8cc426a0>,\n",
              " <torchtext.data.example.Example at 0x7f9e8cc44320>,\n",
              " <torchtext.data.example.Example at 0x7f9e8cc44a20>,\n",
              " <torchtext.data.example.Example at 0x7f9e8cc44e48>,\n",
              " <torchtext.data.example.Example at 0x7f9e8cc4bcf8>,\n",
              " <torchtext.data.example.Example at 0x7f9e8c9b42e8>,\n",
              " <torchtext.data.example.Example at 0x7f9e8c9b4e80>,\n",
              " <torchtext.data.example.Example at 0x7f9e8c9b8278>,\n",
              " <torchtext.data.example.Example at 0x7f9e8c9bb1d0>,\n",
              " <torchtext.data.example.Example at 0x7f9e8c9bbb38>,\n",
              " <torchtext.data.example.Example at 0x7f9e8c9c0cc0>,\n",
              " <torchtext.data.example.Example at 0x7f9e8c9c3358>,\n",
              " <torchtext.data.example.Example at 0x7f9e8c9c38d0>,\n",
              " <torchtext.data.example.Example at 0x7f9e8c9ce9b0>,\n",
              " <torchtext.data.example.Example at 0x7f9e8c9d1630>,\n",
              " <torchtext.data.example.Example at 0x7f9e8c9d85f8>,\n",
              " <torchtext.data.example.Example at 0x7f9e8c9dc208>,\n",
              " <torchtext.data.example.Example at 0x7f9e8c9e0c50>,\n",
              " <torchtext.data.example.Example at 0x7f9e8c9e2550>,\n",
              " <torchtext.data.example.Example at 0x7f9e8c9e4160>,\n",
              " <torchtext.data.example.Example at 0x7f9e8c9e4e80>,\n",
              " <torchtext.data.example.Example at 0x7f9e8c9e8518>,\n",
              " <torchtext.data.example.Example at 0x7f9e8c9eb860>,\n",
              " <torchtext.data.example.Example at 0x7f9e8c9efe48>,\n",
              " <torchtext.data.example.Example at 0x7f9e8c9f30f0>,\n",
              " <torchtext.data.example.Example at 0x7f9e8c9f3860>,\n",
              " <torchtext.data.example.Example at 0x7f9e8c976400>,\n",
              " <torchtext.data.example.Example at 0x7f9e8c97a470>,\n",
              " <torchtext.data.example.Example at 0x7f9e8c97f470>,\n",
              " <torchtext.data.example.Example at 0x7f9e8c97fdd8>,\n",
              " <torchtext.data.example.Example at 0x7f9e8c981ac8>,\n",
              " <torchtext.data.example.Example at 0x7f9e8c985898>,\n",
              " <torchtext.data.example.Example at 0x7f9e8c9877f0>,\n",
              " <torchtext.data.example.Example at 0x7f9e8c987eb8>,\n",
              " <torchtext.data.example.Example at 0x7f9e8c989240>,\n",
              " <torchtext.data.example.Example at 0x7f9e8c98d048>,\n",
              " <torchtext.data.example.Example at 0x7f9e8c990630>,\n",
              " <torchtext.data.example.Example at 0x7f9e8c992240>,\n",
              " <torchtext.data.example.Example at 0x7f9e8c996780>,\n",
              " <torchtext.data.example.Example at 0x7f9e8c996cc0>,\n",
              " <torchtext.data.example.Example at 0x7f9e8c997128>,\n",
              " <torchtext.data.example.Example at 0x7f9e8c997a90>,\n",
              " <torchtext.data.example.Example at 0x7f9e8c99b128>,\n",
              " <torchtext.data.example.Example at 0x7f9e8c99b5f8>,\n",
              " <torchtext.data.example.Example at 0x7f9e8c99ba90>,\n",
              " <torchtext.data.example.Example at 0x7f9e8c99d2e8>,\n",
              " <torchtext.data.example.Example at 0x7f9e8c9a0048>,\n",
              " <torchtext.data.example.Example at 0x7f9e8c9ab710>,\n",
              " <torchtext.data.example.Example at 0x7f9e8c937940>,\n",
              " <torchtext.data.example.Example at 0x7f9e8c937da0>,\n",
              " <torchtext.data.example.Example at 0x7f9e8c93af98>,\n",
              " <torchtext.data.example.Example at 0x7f9e8c93f748>,\n",
              " <torchtext.data.example.Example at 0x7f9e8c9425c0>,\n",
              " <torchtext.data.example.Example at 0x7f9e8c942978>,\n",
              " <torchtext.data.example.Example at 0x7f9e8c946cc0>,\n",
              " <torchtext.data.example.Example at 0x7f9e8c947390>,\n",
              " <torchtext.data.example.Example at 0x7f9e8c947ba8>,\n",
              " <torchtext.data.example.Example at 0x7f9e8c94a0f0>,\n",
              " <torchtext.data.example.Example at 0x7f9e8c94a630>,\n",
              " <torchtext.data.example.Example at 0x7f9e8c94b0f0>,\n",
              " <torchtext.data.example.Example at 0x7f9e8c94ba58>,\n",
              " <torchtext.data.example.Example at 0x7f9e8c954630>,\n",
              " <torchtext.data.example.Example at 0x7f9e8c954da0>,\n",
              " <torchtext.data.example.Example at 0x7f9e8c956470>,\n",
              " <torchtext.data.example.Example at 0x7f9e8c962b00>,\n",
              " <torchtext.data.example.Example at 0x7f9e8c963748>,\n",
              " <torchtext.data.example.Example at 0x7f9e8c963cf8>,\n",
              " <torchtext.data.example.Example at 0x7f9e8c96a438>,\n",
              " <torchtext.data.example.Example at 0x7f9e8c96ac50>,\n",
              " <torchtext.data.example.Example at 0x7f9e8c96b320>,\n",
              " <torchtext.data.example.Example at 0x7f9e8c96bda0>,\n",
              " <torchtext.data.example.Example at 0x7f9e8c96f4a8>,\n",
              " <torchtext.data.example.Example at 0x7f9e8c970438>,\n",
              " <torchtext.data.example.Example at 0x7f9e8c970d30>,\n",
              " <torchtext.data.example.Example at 0x7f9e8c9727b8>,\n",
              " <torchtext.data.example.Example at 0x7f9e8c8f7518>,\n",
              " <torchtext.data.example.Example at 0x7f9e8c8f7b00>,\n",
              " <torchtext.data.example.Example at 0x7f9e8c8f8cc0>,\n",
              " <torchtext.data.example.Example at 0x7f9e8c8fa9e8>,\n",
              " <torchtext.data.example.Example at 0x7f9e8c8fd048>,\n",
              " <torchtext.data.example.Example at 0x7f9e8c901240>,\n",
              " <torchtext.data.example.Example at 0x7f9e8c901f28>,\n",
              " <torchtext.data.example.Example at 0x7f9e8c906c18>,\n",
              " <torchtext.data.example.Example at 0x7f9e8c90bd30>,\n",
              " <torchtext.data.example.Example at 0x7f9e8c90ddd8>,\n",
              " <torchtext.data.example.Example at 0x7f9e8c90e320>,\n",
              " <torchtext.data.example.Example at 0x7f9e8c90eb70>,\n",
              " <torchtext.data.example.Example at 0x7f9e8c911080>,\n",
              " <torchtext.data.example.Example at 0x7f9e8c9142b0>,\n",
              " <torchtext.data.example.Example at 0x7f9e8c916518>,\n",
              " <torchtext.data.example.Example at 0x7f9e8c91a470>,\n",
              " <torchtext.data.example.Example at 0x7f9e8c91ab38>,\n",
              " <torchtext.data.example.Example at 0x7f9e8c91d128>,\n",
              " <torchtext.data.example.Example at 0x7f9e8c91d860>,\n",
              " <torchtext.data.example.Example at 0x7f9e8c9230b8>,\n",
              " <torchtext.data.example.Example at 0x7f9e8c923630>,\n",
              " <torchtext.data.example.Example at 0x7f9e8c923ba8>,\n",
              " <torchtext.data.example.Example at 0x7f9e8c9266d8>,\n",
              " <torchtext.data.example.Example at 0x7f9e8c9241d0>,\n",
              " <torchtext.data.example.Example at 0x7f9e8c924a90>,\n",
              " <torchtext.data.example.Example at 0x7f9e8c92d9e8>,\n",
              " <torchtext.data.example.Example at 0x7f9e8c9317f0>,\n",
              " <torchtext.data.example.Example at 0x7f9e8c932198>,\n",
              " <torchtext.data.example.Example at 0x7f9e8c8b52e8>,\n",
              " <torchtext.data.example.Example at 0x7f9e8c8b57b8>,\n",
              " <torchtext.data.example.Example at 0x7f9e8c8b78d0>,\n",
              " <torchtext.data.example.Example at 0x7f9e8c8b8320>,\n",
              " <torchtext.data.example.Example at 0x7f9e8c8bb7b8>,\n",
              " <torchtext.data.example.Example at 0x7f9e8c8bc278>,\n",
              " <torchtext.data.example.Example at 0x7f9e8c8bf518>,\n",
              " <torchtext.data.example.Example at 0x7f9e8c8c5898>,\n",
              " <torchtext.data.example.Example at 0x7f9e8c8c6748>,\n",
              " <torchtext.data.example.Example at 0x7f9e8c8c9748>,\n",
              " <torchtext.data.example.Example at 0x7f9e8c8ccfd0>,\n",
              " <torchtext.data.example.Example at 0x7f9e8c8ceef0>,\n",
              " <torchtext.data.example.Example at 0x7f9e8c8cf710>,\n",
              " <torchtext.data.example.Example at 0x7f9e8c8d5898>,\n",
              " <torchtext.data.example.Example at 0x7f9e8c8db080>,\n",
              " <torchtext.data.example.Example at 0x7f9e8c8dd3c8>,\n",
              " <torchtext.data.example.Example at 0x7f9e8c8e4cc0>,\n",
              " <torchtext.data.example.Example at 0x7f9e8c8e5b00>,\n",
              " <torchtext.data.example.Example at 0x7f9e8c8eb5f8>,\n",
              " <torchtext.data.example.Example at 0x7f9e8c8edc88>,\n",
              " <torchtext.data.example.Example at 0x7f9e8c8f0048>,\n",
              " <torchtext.data.example.Example at 0x7f9e8c8f22e8>,\n",
              " <torchtext.data.example.Example at 0x7f9e8c875278>,\n",
              " <torchtext.data.example.Example at 0x7f9e8c8758d0>,\n",
              " <torchtext.data.example.Example at 0x7f9e8c87dc18>,\n",
              " <torchtext.data.example.Example at 0x7f9e8c87e0b8>,\n",
              " <torchtext.data.example.Example at 0x7f9e8c87e9e8>,\n",
              " <torchtext.data.example.Example at 0x7f9e8c885748>,\n",
              " <torchtext.data.example.Example at 0x7f9e8c8897b8>,\n",
              " <torchtext.data.example.Example at 0x7f9e8c88a278>,\n",
              " <torchtext.data.example.Example at 0x7f9e8c88aa90>,\n",
              " <torchtext.data.example.Example at 0x7f9e8c88d320>,\n",
              " <torchtext.data.example.Example at 0x7f9e8c88ea58>,\n",
              " <torchtext.data.example.Example at 0x7f9e8c891eb8>,\n",
              " <torchtext.data.example.Example at 0x7f9e8c894c18>,\n",
              " <torchtext.data.example.Example at 0x7f9e8c8974a8>,\n",
              " <torchtext.data.example.Example at 0x7f9e8c897c88>,\n",
              " <torchtext.data.example.Example at 0x7f9e8c89a5f8>,\n",
              " <torchtext.data.example.Example at 0x7f9e8c89ad68>,\n",
              " <torchtext.data.example.Example at 0x7f9e8c89b780>,\n",
              " <torchtext.data.example.Example at 0x7f9e8c89d160>,\n",
              " <torchtext.data.example.Example at 0x7f9e8c89f2e8>,\n",
              " <torchtext.data.example.Example at 0x7f9e8c8a1438>,\n",
              " <torchtext.data.example.Example at 0x7f9e8c8a20b8>,\n",
              " <torchtext.data.example.Example at 0x7f9e8c8a56d8>,\n",
              " <torchtext.data.example.Example at 0x7f9e8c8ab7b8>,\n",
              " <torchtext.data.example.Example at 0x7f9e8c8ad0b8>,\n",
              " <torchtext.data.example.Example at 0x7f9e8c8adcc0>,\n",
              " <torchtext.data.example.Example at 0x7f9e8c8b20b8>,\n",
              " <torchtext.data.example.Example at 0x7f9e8c8b2588>,\n",
              " <torchtext.data.example.Example at 0x7f9e8c8b2fd0>,\n",
              " <torchtext.data.example.Example at 0x7f9e8c836828>,\n",
              " <torchtext.data.example.Example at 0x7f9e8c83c4a8>,\n",
              " <torchtext.data.example.Example at 0x7f9e8c83f828>,\n",
              " <torchtext.data.example.Example at 0x7f9e8c841dd8>,\n",
              " <torchtext.data.example.Example at 0x7f9e8c846a58>,\n",
              " <torchtext.data.example.Example at 0x7f9e8c847128>,\n",
              " <torchtext.data.example.Example at 0x7f9e8c8499e8>,\n",
              " <torchtext.data.example.Example at 0x7f9e8c849e48>,\n",
              " <torchtext.data.example.Example at 0x7f9e8c84c978>,\n",
              " <torchtext.data.example.Example at 0x7f9e8c84e630>,\n",
              " <torchtext.data.example.Example at 0x7f9e8c8524a8>,\n",
              " <torchtext.data.example.Example at 0x7f9e8c852898>,\n",
              " <torchtext.data.example.Example at 0x7f9e8c856860>,\n",
              " <torchtext.data.example.Example at 0x7f9e8c858c18>,\n",
              " <torchtext.data.example.Example at 0x7f9e8c85f128>,\n",
              " <torchtext.data.example.Example at 0x7f9e8c85f940>,\n",
              " <torchtext.data.example.Example at 0x7f9e8c86a0f0>,\n",
              " <torchtext.data.example.Example at 0x7f9e8c86db38>,\n",
              " <torchtext.data.example.Example at 0x7f9e8c870358>,\n",
              " <torchtext.data.example.Example at 0x7f9e8c870f98>,\n",
              " <torchtext.data.example.Example at 0x7f9e8c871630>,\n",
              " <torchtext.data.example.Example at 0x7f9e8c7f7438>,\n",
              " <torchtext.data.example.Example at 0x7f9e8c7fb748>,\n",
              " <torchtext.data.example.Example at 0x7f9e8c7fba90>,\n",
              " <torchtext.data.example.Example at 0x7f9e8c7fbf28>,\n",
              " <torchtext.data.example.Example at 0x7f9e8c7fda90>,\n",
              " <torchtext.data.example.Example at 0x7f9e8c800080>,\n",
              " <torchtext.data.example.Example at 0x7f9e8c800588>,\n",
              " <torchtext.data.example.Example at 0x7f9e8c800a90>,\n",
              " <torchtext.data.example.Example at 0x7f9e8c8025f8>,\n",
              " <torchtext.data.example.Example at 0x7f9e8c8037f0>,\n",
              " <torchtext.data.example.Example at 0x7f9e8c806e80>,\n",
              " <torchtext.data.example.Example at 0x7f9e8c808630>,\n",
              " <torchtext.data.example.Example at 0x7f9e8c80d470>,\n",
              " <torchtext.data.example.Example at 0x7f9e8c80dc50>,\n",
              " <torchtext.data.example.Example at 0x7f9e8c80ec50>,\n",
              " <torchtext.data.example.Example at 0x7f9e8c80f550>,\n",
              " <torchtext.data.example.Example at 0x7f9e8c80fc18>,\n",
              " <torchtext.data.example.Example at 0x7f9e8c8100b8>,\n",
              " <torchtext.data.example.Example at 0x7f9e8c816c18>,\n",
              " <torchtext.data.example.Example at 0x7f9e8c81eb70>,\n",
              " <torchtext.data.example.Example at 0x7f9e8c81ef60>,\n",
              " <torchtext.data.example.Example at 0x7f9e8c821828>,\n",
              " <torchtext.data.example.Example at 0x7f9e8c8259b0>,\n",
              " <torchtext.data.example.Example at 0x7f9e8c827080>,\n",
              " <torchtext.data.example.Example at 0x7f9e8c82af60>,\n",
              " <torchtext.data.example.Example at 0x7f9e8c82b748>,\n",
              " <torchtext.data.example.Example at 0x7f9e8c82c6a0>,\n",
              " <torchtext.data.example.Example at 0x7f9e8c82cc18>,\n",
              " <torchtext.data.example.Example at 0x7f9e8c82e1d0>,\n",
              " <torchtext.data.example.Example at 0x7f9e8c830438>,\n",
              " <torchtext.data.example.Example at 0x7f9e8c831940>,\n",
              " <torchtext.data.example.Example at 0x7f9e8c7b4898>,\n",
              " <torchtext.data.example.Example at 0x7f9e8c7ba470>,\n",
              " <torchtext.data.example.Example at 0x7f9e8c7be1d0>,\n",
              " <torchtext.data.example.Example at 0x7f9e8c7c1ba8>,\n",
              " <torchtext.data.example.Example at 0x7f9e8c7c3198>,\n",
              " <torchtext.data.example.Example at 0x7f9e8c7c3d68>,\n",
              " <torchtext.data.example.Example at 0x7f9e8c7c2438>,\n",
              " <torchtext.data.example.Example at 0x7f9e8c7c8470>,\n",
              " <torchtext.data.example.Example at 0x7f9e8c7c8fd0>,\n",
              " <torchtext.data.example.Example at 0x7f9e8c7c9f98>,\n",
              " <torchtext.data.example.Example at 0x7f9e8c7cd4a8>,\n",
              " <torchtext.data.example.Example at 0x7f9e8c7d0390>,\n",
              " <torchtext.data.example.Example at 0x7f9e8c7d0dd8>,\n",
              " <torchtext.data.example.Example at 0x7f9e8c7d9e48>,\n",
              " <torchtext.data.example.Example at 0x7f9e8c7db198>,\n",
              " <torchtext.data.example.Example at 0x7f9e8c7db630>,\n",
              " <torchtext.data.example.Example at 0x7f9e8c7deba8>,\n",
              " <torchtext.data.example.Example at 0x7f9e8c7df5c0>,\n",
              " <torchtext.data.example.Example at 0x7f9e8c7dfc18>,\n",
              " <torchtext.data.example.Example at 0x7f9e8c7e2278>,\n",
              " <torchtext.data.example.Example at 0x7f9e8c7e2ef0>,\n",
              " <torchtext.data.example.Example at 0x7f9e8c7e4518>,\n",
              " <torchtext.data.example.Example at 0x7f9e8c7e4f98>,\n",
              " <torchtext.data.example.Example at 0x7f9e8c7e6128>,\n",
              " <torchtext.data.example.Example at 0x7f9e8c7e6748>,\n",
              " <torchtext.data.example.Example at 0x7f9e8c7ea2e8>,\n",
              " <torchtext.data.example.Example at 0x7f9e8c7eaa58>,\n",
              " <torchtext.data.example.Example at 0x7f9e8c779c88>,\n",
              " <torchtext.data.example.Example at 0x7f9e8c77b710>,\n",
              " <torchtext.data.example.Example at 0x7f9e8c77c240>,\n",
              " <torchtext.data.example.Example at 0x7f9e8c7801d0>,\n",
              " <torchtext.data.example.Example at 0x7f9e8c781b00>,\n",
              " <torchtext.data.example.Example at 0x7f9e8c783828>,\n",
              " <torchtext.data.example.Example at 0x7f9e8c784128>,\n",
              " <torchtext.data.example.Example at 0x7f9e8c7845f8>,\n",
              " <torchtext.data.example.Example at 0x7f9e8c784ac8>,\n",
              " <torchtext.data.example.Example at 0x7f9e8c7896d8>,\n",
              " <torchtext.data.example.Example at 0x7f9e8c78a2e8>,\n",
              " <torchtext.data.example.Example at 0x7f9e8c78a7f0>,\n",
              " <torchtext.data.example.Example at 0x7f9e8c78d0f0>,\n",
              " <torchtext.data.example.Example at 0x7f9e8c78d518>,\n",
              " <torchtext.data.example.Example at 0x7f9e8c7905c0>,\n",
              " <torchtext.data.example.Example at 0x7f9e8c792588>,\n",
              " <torchtext.data.example.Example at 0x7f9e8c792ba8>,\n",
              " <torchtext.data.example.Example at 0x7f9e8c792f98>,\n",
              " <torchtext.data.example.Example at 0x7f9e8c796588>,\n",
              " <torchtext.data.example.Example at 0x7f9e8c796ef0>,\n",
              " <torchtext.data.example.Example at 0x7f9e8c799ba8>,\n",
              " <torchtext.data.example.Example at 0x7f9e8c79c4e0>,\n",
              " <torchtext.data.example.Example at 0x7f9e8c79fe48>,\n",
              " <torchtext.data.example.Example at 0x7f9e8c7a04a8>,\n",
              " <torchtext.data.example.Example at 0x7f9e8c7a3048>,\n",
              " <torchtext.data.example.Example at 0x7f9e8c7a3ba8>,\n",
              " <torchtext.data.example.Example at 0x7f9e8c7a6240>,\n",
              " <torchtext.data.example.Example at 0x7f9e8c7a7588>,\n",
              " <torchtext.data.example.Example at 0x7f9e8c7a7d68>,\n",
              " <torchtext.data.example.Example at 0x7f9e8c7a9c50>,\n",
              " <torchtext.data.example.Example at 0x7f9e8c7b2048>,\n",
              " <torchtext.data.example.Example at 0x7f9e8c7b3320>,\n",
              " <torchtext.data.example.Example at 0x7f9e8c7375c0>,\n",
              " <torchtext.data.example.Example at 0x7f9e8c738080>,\n",
              " <torchtext.data.example.Example at 0x7f9e8c7440b8>,\n",
              " <torchtext.data.example.Example at 0x7f9e8c745b38>,\n",
              " <torchtext.data.example.Example at 0x7f9e8c7487f0>,\n",
              " <torchtext.data.example.Example at 0x7f9e8c74a438>,\n",
              " <torchtext.data.example.Example at 0x7f9e8c74c710>,\n",
              " <torchtext.data.example.Example at 0x7f9e8c74e198>,\n",
              " <torchtext.data.example.Example at 0x7f9e8c74e710>,\n",
              " <torchtext.data.example.Example at 0x7f9e8c74edd8>,\n",
              " <torchtext.data.example.Example at 0x7f9e8c7545c0>,\n",
              " <torchtext.data.example.Example at 0x7f9e8c7564a8>,\n",
              " <torchtext.data.example.Example at 0x7f9e8c756b70>,\n",
              " <torchtext.data.example.Example at 0x7f9e8c756f98>,\n",
              " <torchtext.data.example.Example at 0x7f9e8c7556d8>,\n",
              " <torchtext.data.example.Example at 0x7f9e8c758748>,\n",
              " <torchtext.data.example.Example at 0x7f9e8c759f28>,\n",
              " <torchtext.data.example.Example at 0x7f9e8c75b2e8>,\n",
              " <torchtext.data.example.Example at 0x7f9e8c75e3c8>,\n",
              " <torchtext.data.example.Example at 0x7f9e8c762550>,\n",
              " <torchtext.data.example.Example at 0x7f9e8c764518>,\n",
              " <torchtext.data.example.Example at 0x7f9e8c765240>,\n",
              " <torchtext.data.example.Example at 0x7f9e8c7657f0>,\n",
              " <torchtext.data.example.Example at 0x7f9e8c766400>,\n",
              " <torchtext.data.example.Example at 0x7f9e8c766c88>,\n",
              " <torchtext.data.example.Example at 0x7f9e8c76c278>,\n",
              " <torchtext.data.example.Example at 0x7f9e8c76c6a0>,\n",
              " <torchtext.data.example.Example at 0x7f9e8c76eeb8>,\n",
              " <torchtext.data.example.Example at 0x7f9e8c76fe10>,\n",
              " <torchtext.data.example.Example at 0x7f9e8c773fd0>,\n",
              " <torchtext.data.example.Example at 0x7f9e8c6f7278>,\n",
              " <torchtext.data.example.Example at 0x7f9e8c6f9278>,\n",
              " <torchtext.data.example.Example at 0x7f9e8c6fb438>,\n",
              " <torchtext.data.example.Example at 0x7f9e8c6fbef0>,\n",
              " <torchtext.data.example.Example at 0x7f9e8c6fc5f8>,\n",
              " <torchtext.data.example.Example at 0x7f9e8c6fcda0>,\n",
              " <torchtext.data.example.Example at 0x7f9e8c7004a8>,\n",
              " <torchtext.data.example.Example at 0x7f9e8c7032e8>,\n",
              " <torchtext.data.example.Example at 0x7f9e8c703c50>,\n",
              " <torchtext.data.example.Example at 0x7f9e8c7070b8>,\n",
              " <torchtext.data.example.Example at 0x7f9e8c708048>,\n",
              " <torchtext.data.example.Example at 0x7f9e8c708470>,\n",
              " <torchtext.data.example.Example at 0x7f9e8c7092e8>,\n",
              " <torchtext.data.example.Example at 0x7f9e8c70c160>,\n",
              " <torchtext.data.example.Example at 0x7f9e8c70d1d0>,\n",
              " <torchtext.data.example.Example at 0x7f9e8c70d898>,\n",
              " <torchtext.data.example.Example at 0x7f9e8c70f630>,\n",
              " <torchtext.data.example.Example at 0x7f9e8c70feb8>,\n",
              " <torchtext.data.example.Example at 0x7f9e8c712a58>,\n",
              " <torchtext.data.example.Example at 0x7f9e8c71e128>,\n",
              " <torchtext.data.example.Example at 0x7f9e8c730d68>,\n",
              " <torchtext.data.example.Example at 0x7f9e8c733320>,\n",
              " <torchtext.data.example.Example at 0x7f9e8c6b6f98>,\n",
              " <torchtext.data.example.Example at 0x7f9e8c6b7dd8>,\n",
              " <torchtext.data.example.Example at 0x7f9e8c6b8978>,\n",
              " <torchtext.data.example.Example at 0x7f9e8c6b97b8>,\n",
              " <torchtext.data.example.Example at 0x7f9e8c6bc080>,\n",
              " <torchtext.data.example.Example at 0x7f9e8c6bc860>,\n",
              " <torchtext.data.example.Example at 0x7f9e8c6bf4e0>,\n",
              " <torchtext.data.example.Example at 0x7f9e8c6bfbe0>,\n",
              " <torchtext.data.example.Example at 0x7f9e8c6c0748>,\n",
              " <torchtext.data.example.Example at 0x7f9e8c6c0be0>,\n",
              " <torchtext.data.example.Example at 0x7f9e8c6c22e8>,\n",
              " <torchtext.data.example.Example at 0x7f9e8c6c2a58>,\n",
              " <torchtext.data.example.Example at 0x7f9e8c6c2d68>,\n",
              " <torchtext.data.example.Example at 0x7f9e8c6c33c8>,\n",
              " <torchtext.data.example.Example at 0x7f9e8c6c54e0>,\n",
              " <torchtext.data.example.Example at 0x7f9e8c6c5a90>,\n",
              " <torchtext.data.example.Example at 0x7f9e8c6c82b0>,\n",
              " <torchtext.data.example.Example at 0x7f9e8c6c89e8>,\n",
              " <torchtext.data.example.Example at 0x7f9e8c6ca898>,\n",
              " <torchtext.data.example.Example at 0x7f9e8c6cc518>,\n",
              " <torchtext.data.example.Example at 0x7f9e8c6ce048>,\n",
              " <torchtext.data.example.Example at 0x7f9e8c6ce550>,\n",
              " <torchtext.data.example.Example at 0x7f9e8c6ceb70>,\n",
              " <torchtext.data.example.Example at 0x7f9e8c6cf470>,\n",
              " <torchtext.data.example.Example at 0x7f9e8c6d3400>,\n",
              " <torchtext.data.example.Example at 0x7f9e8c6d3860>,\n",
              " <torchtext.data.example.Example at 0x7f9e8c6d3f98>,\n",
              " <torchtext.data.example.Example at 0x7f9e8c6d4630>,\n",
              " <torchtext.data.example.Example at 0x7f9e8c6d4e80>,\n",
              " <torchtext.data.example.Example at 0x7f9e8c6e42b0>,\n",
              " <torchtext.data.example.Example at 0x7f9e8c6e4f98>,\n",
              " <torchtext.data.example.Example at 0x7f9e8c6e7080>,\n",
              " <torchtext.data.example.Example at 0x7f9e8c6e98d0>,\n",
              " <torchtext.data.example.Example at 0x7f9e8c6ee9b0>,\n",
              " <torchtext.data.example.Example at 0x7f9e8c6f38d0>,\n",
              " <torchtext.data.example.Example at 0x7f9e8c676978>,\n",
              " <torchtext.data.example.Example at 0x7f9e8c6770b8>,\n",
              " <torchtext.data.example.Example at 0x7f9e8c6790b8>,\n",
              " <torchtext.data.example.Example at 0x7f9e8c678c50>,\n",
              " <torchtext.data.example.Example at 0x7f9e8c67b1d0>,\n",
              " <torchtext.data.example.Example at 0x7f9e8c67bef0>,\n",
              " <torchtext.data.example.Example at 0x7f9e8c67d2e8>,\n",
              " <torchtext.data.example.Example at 0x7f9e8c67e358>,\n",
              " <torchtext.data.example.Example at 0x7f9e8c67efd0>,\n",
              " <torchtext.data.example.Example at 0x7f9e8c680860>,\n",
              " <torchtext.data.example.Example at 0x7f9e8c683ba8>,\n",
              " <torchtext.data.example.Example at 0x7f9e8c6850f0>,\n",
              " <torchtext.data.example.Example at 0x7f9e8c685a58>,\n",
              " <torchtext.data.example.Example at 0x7f9e8c687278>,\n",
              " <torchtext.data.example.Example at 0x7f9e8c68a240>,\n",
              " <torchtext.data.example.Example at 0x7f9e8c68d128>,\n",
              " <torchtext.data.example.Example at 0x7f9e8c68df60>,\n",
              " <torchtext.data.example.Example at 0x7f9e8c690320>,\n",
              " <torchtext.data.example.Example at 0x7f9e8c6909b0>,\n",
              " <torchtext.data.example.Example at 0x7f9e8c691710>,\n",
              " <torchtext.data.example.Example at 0x7f9e8c694eb8>,\n",
              " <torchtext.data.example.Example at 0x7f9e8c695748>,\n",
              " <torchtext.data.example.Example at 0x7f9e8c69abe0>,\n",
              " <torchtext.data.example.Example at 0x7f9e8c69c940>,\n",
              " <torchtext.data.example.Example at 0x7f9e8c69cda0>,\n",
              " <torchtext.data.example.Example at 0x7f9e8c69f4a8>,\n",
              " <torchtext.data.example.Example at 0x7f9e8c69fac8>,\n",
              " <torchtext.data.example.Example at 0x7f9e8c6a1080>,\n",
              " <torchtext.data.example.Example at 0x7f9e8c6a1f28>,\n",
              " <torchtext.data.example.Example at 0x7f9e8c6a3b38>,\n",
              " <torchtext.data.example.Example at 0x7f9e8c6a8f28>,\n",
              " <torchtext.data.example.Example at 0x7f9e8c6ad630>,\n",
              " <torchtext.data.example.Example at 0x7f9e8c6b00f0>,\n",
              " <torchtext.data.example.Example at 0x7f9e8c6b27f0>,\n",
              " <torchtext.data.example.Example at 0x7f9e8c6b2ba8>,\n",
              " <torchtext.data.example.Example at 0x7f9e8c6b3240>,\n",
              " <torchtext.data.example.Example at 0x7f9e8c635860>,\n",
              " <torchtext.data.example.Example at 0x7f9e8c637080>,\n",
              " <torchtext.data.example.Example at 0x7f9e8c637a58>,\n",
              " <torchtext.data.example.Example at 0x7f9e8c638390>,\n",
              " <torchtext.data.example.Example at 0x7f9e8c639080>,\n",
              " <torchtext.data.example.Example at 0x7f9e8c639cf8>,\n",
              " <torchtext.data.example.Example at 0x7f9e8c63ca20>,\n",
              " <torchtext.data.example.Example at 0x7f9e8c63ef28>,\n",
              " <torchtext.data.example.Example at 0x7f9e8c63f4a8>,\n",
              " <torchtext.data.example.Example at 0x7f9e8c63fd68>,\n",
              " <torchtext.data.example.Example at 0x7f9e8c643748>,\n",
              " <torchtext.data.example.Example at 0x7f9e8c643be0>,\n",
              " <torchtext.data.example.Example at 0x7f9e8c644940>,\n",
              " <torchtext.data.example.Example at 0x7f9e8c6469b0>,\n",
              " <torchtext.data.example.Example at 0x7f9e8c646e48>,\n",
              " <torchtext.data.example.Example at 0x7f9e8c647ac8>,\n",
              " <torchtext.data.example.Example at 0x7f9e8c6499b0>,\n",
              " <torchtext.data.example.Example at 0x7f9e8c64b630>,\n",
              " <torchtext.data.example.Example at 0x7f9e8c64e550>,\n",
              " <torchtext.data.example.Example at 0x7f9e8c6502e8>,\n",
              " <torchtext.data.example.Example at 0x7f9e8c650cc0>,\n",
              " <torchtext.data.example.Example at 0x7f9e8c6520f0>,\n",
              " <torchtext.data.example.Example at 0x7f9e8c652b38>,\n",
              " <torchtext.data.example.Example at 0x7f9e8c653c18>,\n",
              " <torchtext.data.example.Example at 0x7f9e8c6551d0>,\n",
              " <torchtext.data.example.Example at 0x7f9e8c658668>,\n",
              " <torchtext.data.example.Example at 0x7f9e8c65a4a8>,\n",
              " <torchtext.data.example.Example at 0x7f9e8c65b390>,\n",
              " <torchtext.data.example.Example at 0x7f9e8c65b908>,\n",
              " <torchtext.data.example.Example at 0x7f9e8c65d128>,\n",
              " <torchtext.data.example.Example at 0x7f9e8c65d7b8>,\n",
              " <torchtext.data.example.Example at 0x7f9e8c65dda0>,\n",
              " <torchtext.data.example.Example at 0x7f9e8c6600b8>,\n",
              " <torchtext.data.example.Example at 0x7f9e8c663128>,\n",
              " <torchtext.data.example.Example at 0x7f9e8c6637b8>,\n",
              " <torchtext.data.example.Example at 0x7f9e8c663da0>,\n",
              " <torchtext.data.example.Example at 0x7f9e8c666940>,\n",
              " <torchtext.data.example.Example at 0x7f9e8c6681d0>,\n",
              " <torchtext.data.example.Example at 0x7f9e8c669198>,\n",
              " <torchtext.data.example.Example at 0x7f9e8c669a90>,\n",
              " <torchtext.data.example.Example at 0x7f9e8c66dd30>,\n",
              " <torchtext.data.example.Example at 0x7f9e8c66ec50>,\n",
              " <torchtext.data.example.Example at 0x7f9e8c672a58>,\n",
              " <torchtext.data.example.Example at 0x7f9e8c672f28>,\n",
              " <torchtext.data.example.Example at 0x7f9e8c673860>,\n",
              " <torchtext.data.example.Example at 0x7f9e8c673dd8>,\n",
              " <torchtext.data.example.Example at 0x7f9e8c5f50b8>,\n",
              " <torchtext.data.example.Example at 0x7f9e8c5f55f8>,\n",
              " <torchtext.data.example.Example at 0x7f9e8c5f6438>,\n",
              " <torchtext.data.example.Example at 0x7f9e8c5f7400>,\n",
              " <torchtext.data.example.Example at 0x7f9e8c5f7f28>,\n",
              " <torchtext.data.example.Example at 0x7f9e8c5fd898>,\n",
              " <torchtext.data.example.Example at 0x7f9e8c5fe630>,\n",
              " <torchtext.data.example.Example at 0x7f9e8c5fef28>,\n",
              " <torchtext.data.example.Example at 0x7f9e8c601be0>,\n",
              " <torchtext.data.example.Example at 0x7f9e8c6034a8>,\n",
              " <torchtext.data.example.Example at 0x7f9e8c603978>,\n",
              " <torchtext.data.example.Example at 0x7f9e8c6060f0>,\n",
              " <torchtext.data.example.Example at 0x7f9e8c6065c0>,\n",
              " <torchtext.data.example.Example at 0x7f9e8c608240>,\n",
              " <torchtext.data.example.Example at 0x7f9e8c608860>,\n",
              " <torchtext.data.example.Example at 0x7f9e8c608cf8>,\n",
              " <torchtext.data.example.Example at 0x7f9e8c60aa20>,\n",
              " <torchtext.data.example.Example at 0x7f9e8c60ae48>,\n",
              " <torchtext.data.example.Example at 0x7f9e8c60e550>,\n",
              " <torchtext.data.example.Example at 0x7f9e8c60fe80>,\n",
              " <torchtext.data.example.Example at 0x7f9e8c6103c8>,\n",
              " <torchtext.data.example.Example at 0x7f9e8c610780>,\n",
              " <torchtext.data.example.Example at 0x7f9e8c611320>,\n",
              " <torchtext.data.example.Example at 0x7f9e8c611fd0>,\n",
              " <torchtext.data.example.Example at 0x7f9e8c6157b8>,\n",
              " <torchtext.data.example.Example at 0x7f9e8c617358>,\n",
              " <torchtext.data.example.Example at 0x7f9e8c6177b8>,\n",
              " <torchtext.data.example.Example at 0x7f9e8c617c88>,\n",
              " <torchtext.data.example.Example at 0x7f9e8c61c550>,\n",
              " <torchtext.data.example.Example at 0x7f9e8c61cef0>,\n",
              " <torchtext.data.example.Example at 0x7f9e8c61e2b0>,\n",
              " <torchtext.data.example.Example at 0x7f9e8c61eb38>,\n",
              " <torchtext.data.example.Example at 0x7f9e8c620e80>,\n",
              " <torchtext.data.example.Example at 0x7f9e8c621860>,\n",
              " <torchtext.data.example.Example at 0x7f9e8c621d68>,\n",
              " <torchtext.data.example.Example at 0x7f9e8c622d68>,\n",
              " <torchtext.data.example.Example at 0x7f9e8c626dd8>,\n",
              " <torchtext.data.example.Example at 0x7f9e8c629e10>,\n",
              " <torchtext.data.example.Example at 0x7f9e8c62b710>,\n",
              " <torchtext.data.example.Example at 0x7f9e8c62bc50>,\n",
              " <torchtext.data.example.Example at 0x7f9e8c62d240>,\n",
              " <torchtext.data.example.Example at 0x7f9e8c62dc50>,\n",
              " <torchtext.data.example.Example at 0x7f9e8c630780>,\n",
              " <torchtext.data.example.Example at 0x7f9e8c632ba8>,\n",
              " <torchtext.data.example.Example at 0x7f9e8c5b43c8>,\n",
              " <torchtext.data.example.Example at 0x7f9e8c5b4a90>,\n",
              " <torchtext.data.example.Example at 0x7f9e8c5b82e8>,\n",
              " <torchtext.data.example.Example at 0x7f9e8c5b6128>,\n",
              " <torchtext.data.example.Example at 0x7f9e8c5b6898>,\n",
              " <torchtext.data.example.Example at 0x7f9e8c5b6cc0>,\n",
              " <torchtext.data.example.Example at 0x7f9e8c5ba128>,\n",
              " <torchtext.data.example.Example at 0x7f9e8c5bd4e0>,\n",
              " <torchtext.data.example.Example at 0x7f9e8c5bd828>,\n",
              " <torchtext.data.example.Example at 0x7f9e8c5c3358>,\n",
              " <torchtext.data.example.Example at 0x7f9e8c5c3d30>,\n",
              " <torchtext.data.example.Example at 0x7f9e8c5c5208>,\n",
              " <torchtext.data.example.Example at 0x7f9e8c5c7898>,\n",
              " <torchtext.data.example.Example at 0x7f9e8c5c9320>,\n",
              " <torchtext.data.example.Example at 0x7f9e8c5c9b70>,\n",
              " <torchtext.data.example.Example at 0x7f9e8c5c8208>,\n",
              " <torchtext.data.example.Example at 0x7f9e8c5cca20>,\n",
              " <torchtext.data.example.Example at 0x7f9e8c5ce278>,\n",
              " <torchtext.data.example.Example at 0x7f9e8c5ce908>,\n",
              " <torchtext.data.example.Example at 0x7f9e8c5cf780>,\n",
              " <torchtext.data.example.Example at 0x7f9e8c5d10b8>,\n",
              " <torchtext.data.example.Example at 0x7f9e8c5d3358>,\n",
              " <torchtext.data.example.Example at 0x7f9e8c5d3908>,\n",
              " <torchtext.data.example.Example at 0x7f9e8c5d5be0>,\n",
              " <torchtext.data.example.Example at 0x7f9e8c5d62e8>,\n",
              " <torchtext.data.example.Example at 0x7f9e8c5d8e48>,\n",
              " <torchtext.data.example.Example at 0x7f9e8c5daba8>,\n",
              " <torchtext.data.example.Example at 0x7f9e8c5db208>,\n",
              " <torchtext.data.example.Example at 0x7f9e8c5db5f8>,\n",
              " <torchtext.data.example.Example at 0x7f9e8c5dbd30>,\n",
              " <torchtext.data.example.Example at 0x7f9e8c5df198>,\n",
              " <torchtext.data.example.Example at 0x7f9e8c5df588>,\n",
              " <torchtext.data.example.Example at 0x7f9e8c5dfda0>,\n",
              " <torchtext.data.example.Example at 0x7f9e8c5e1748>,\n",
              " <torchtext.data.example.Example at 0x7f9e8c5e1ef0>,\n",
              " <torchtext.data.example.Example at 0x7f9e8c5e2390>,\n",
              " <torchtext.data.example.Example at 0x7f9e8c5e2a90>,\n",
              " <torchtext.data.example.Example at 0x7f9e8c5e2fd0>,\n",
              " <torchtext.data.example.Example at 0x7f9e8c5e6b00>,\n",
              " <torchtext.data.example.Example at 0x7f9e8c5e7b38>,\n",
              " <torchtext.data.example.Example at 0x7f9e8c5eb240>,\n",
              " <torchtext.data.example.Example at 0x7f9e8c5edac8>,\n",
              " <torchtext.data.example.Example at 0x7f9e8c5eecf8>,\n",
              " <torchtext.data.example.Example at 0x7f9e8c5f0278>,\n",
              " <torchtext.data.example.Example at 0x7f9e8c5f0e10>,\n",
              " <torchtext.data.example.Example at 0x7f9e8c5f20b8>,\n",
              " <torchtext.data.example.Example at 0x7f9e8c5f2cf8>,\n",
              " <torchtext.data.example.Example at 0x7f9e8c5f33c8>,\n",
              " <torchtext.data.example.Example at 0x7f9e8c5f3cc0>,\n",
              " <torchtext.data.example.Example at 0x7f9e8c575e10>,\n",
              " <torchtext.data.example.Example at 0x7f9e8c577a58>,\n",
              " <torchtext.data.example.Example at 0x7f9e8c577e80>,\n",
              " <torchtext.data.example.Example at 0x7f9e8c579c50>,\n",
              " <torchtext.data.example.Example at 0x7f9e8c57c7f0>,\n",
              " <torchtext.data.example.Example at 0x7f9e8c57cf28>,\n",
              " <torchtext.data.example.Example at 0x7f9e8c57d588>,\n",
              " <torchtext.data.example.Example at 0x7f9e8c57e710>,\n",
              " <torchtext.data.example.Example at 0x7f9e8c582e10>,\n",
              " <torchtext.data.example.Example at 0x7f9e8c584978>,\n",
              " <torchtext.data.example.Example at 0x7f9e8c585cf8>,\n",
              " <torchtext.data.example.Example at 0x7f9e8c586c88>,\n",
              " <torchtext.data.example.Example at 0x7f9e8c58b128>,\n",
              " <torchtext.data.example.Example at 0x7f9e8c58ba20>,\n",
              " <torchtext.data.example.Example at 0x7f9e8c58d320>,\n",
              " <torchtext.data.example.Example at 0x7f9e8c58d940>,\n",
              " <torchtext.data.example.Example at 0x7f9e8c58c588>,\n",
              " <torchtext.data.example.Example at 0x7f9e8c58cb38>,\n",
              " <torchtext.data.example.Example at 0x7f9e8c595710>,\n",
              " <torchtext.data.example.Example at 0x7f9e8c597e10>,\n",
              " <torchtext.data.example.Example at 0x7f9e8c59ab70>,\n",
              " <torchtext.data.example.Example at 0x7f9e8c59cb00>,\n",
              " <torchtext.data.example.Example at 0x7f9e8c59e1d0>,\n",
              " <torchtext.data.example.Example at 0x7f9e8c59e748>,\n",
              " <torchtext.data.example.Example at 0x7f9e8c5a2390>,\n",
              " <torchtext.data.example.Example at 0x7f9e8c5a2c18>,\n",
              " <torchtext.data.example.Example at 0x7f9e8c59ffd0>,\n",
              " <torchtext.data.example.Example at 0x7f9e8c5a1940>,\n",
              " <torchtext.data.example.Example at 0x7f9e8c5a5198>,\n",
              " <torchtext.data.example.Example at 0x7f9e8c5a5550>,\n",
              " <torchtext.data.example.Example at 0x7f9e8c5a5a90>,\n",
              " <torchtext.data.example.Example at 0x7f9e8c5a7c88>,\n",
              " <torchtext.data.example.Example at 0x7f9e8c5aa1d0>,\n",
              " <torchtext.data.example.Example at 0x7f9e8c5ab1d0>,\n",
              " <torchtext.data.example.Example at 0x7f9e8c5ab898>,\n",
              " <torchtext.data.example.Example at 0x7f9e8c5adb38>,\n",
              " <torchtext.data.example.Example at 0x7f9e8c5adf28>,\n",
              " <torchtext.data.example.Example at 0x7f9e8c5af6d8>,\n",
              " <torchtext.data.example.Example at 0x7f9e8c5afc18>,\n",
              " <torchtext.data.example.Example at 0x7f9e8c5b3860>,\n",
              " <torchtext.data.example.Example at 0x7f9e8c5b3d68>,\n",
              " <torchtext.data.example.Example at 0x7f9e8c5353c8>,\n",
              " <torchtext.data.example.Example at 0x7f9e8c535fd0>,\n",
              " <torchtext.data.example.Example at 0x7f9e8c537470>,\n",
              " <torchtext.data.example.Example at 0x7f9e8c537940>,\n",
              " <torchtext.data.example.Example at 0x7f9e8c5391d0>,\n",
              " <torchtext.data.example.Example at 0x7f9e8c539710>,\n",
              " <torchtext.data.example.Example at 0x7f9e8c53b128>,\n",
              " <torchtext.data.example.Example at 0x7f9e8c53b908>,\n",
              " <torchtext.data.example.Example at 0x7f9e8c53bf98>,\n",
              " <torchtext.data.example.Example at 0x7f9e8c53ca58>,\n",
              " <torchtext.data.example.Example at 0x7f9e8c53d048>,\n",
              " <torchtext.data.example.Example at 0x7f9e8c53db38>,\n",
              " <torchtext.data.example.Example at 0x7f9e8c53dfd0>,\n",
              " <torchtext.data.example.Example at 0x7f9e8c540c18>,\n",
              " <torchtext.data.example.Example at 0x7f9e8c5424e0>,\n",
              " <torchtext.data.example.Example at 0x7f9e8c5434a8>,\n",
              " <torchtext.data.example.Example at 0x7f9e8c545198>,\n",
              " <torchtext.data.example.Example at 0x7f9e8c545828>,\n",
              " <torchtext.data.example.Example at 0x7f9e8c5461d0>,\n",
              " <torchtext.data.example.Example at 0x7f9e8c547358>,\n",
              " <torchtext.data.example.Example at 0x7f9e8c547940>,\n",
              " <torchtext.data.example.Example at 0x7f9e8c548ef0>,\n",
              " <torchtext.data.example.Example at 0x7f9e8c54cb38>,\n",
              " <torchtext.data.example.Example at 0x7f9e8c54ce48>,\n",
              " <torchtext.data.example.Example at 0x7f9e8c557b38>,\n",
              " <torchtext.data.example.Example at 0x7f9e8c5592b0>,\n",
              " <torchtext.data.example.Example at 0x7f9e8c5599b0>,\n",
              " <torchtext.data.example.Example at 0x7f9e8c55fef0>,\n",
              " <torchtext.data.example.Example at 0x7f9e8c564b70>,\n",
              " <torchtext.data.example.Example at 0x7f9e8c566390>,\n",
              " <torchtext.data.example.Example at 0x7f9e8c566e80>,\n",
              " <torchtext.data.example.Example at 0x7f9e8c56b5f8>,\n",
              " <torchtext.data.example.Example at 0x7f9e8c56bcc0>,\n",
              " <torchtext.data.example.Example at 0x7f9e8c56d240>,\n",
              " <torchtext.data.example.Example at 0x7f9e8c56da90>,\n",
              " <torchtext.data.example.Example at 0x7f9e8c56f0f0>,\n",
              " <torchtext.data.example.Example at 0x7f9e8c5700f0>,\n",
              " <torchtext.data.example.Example at 0x7f9e8c570cf8>,\n",
              " <torchtext.data.example.Example at 0x7f9e8c4fa5c0>,\n",
              " <torchtext.data.example.Example at 0x7f9e8c4fbba8>,\n",
              " <torchtext.data.example.Example at 0x7f9e8c4fc898>,\n",
              " <torchtext.data.example.Example at 0x7f9e8c4fe198>,\n",
              " <torchtext.data.example.Example at 0x7f9e8c501358>,\n",
              " <torchtext.data.example.Example at 0x7f9e8c501ac8>,\n",
              " <torchtext.data.example.Example at 0x7f9e8c504f28>,\n",
              " <torchtext.data.example.Example at 0x7f9e8c506860>,\n",
              " <torchtext.data.example.Example at 0x7f9e8c50bb38>,\n",
              " <torchtext.data.example.Example at 0x7f9e8c509240>,\n",
              " <torchtext.data.example.Example at 0x7f9e8c50e3c8>,\n",
              " <torchtext.data.example.Example at 0x7f9e8c50f588>,\n",
              " <torchtext.data.example.Example at 0x7f9e8c50f9b0>,\n",
              " <torchtext.data.example.Example at 0x7f9e8c5100b8>,\n",
              " <torchtext.data.example.Example at 0x7f9e8c513c50>,\n",
              " <torchtext.data.example.Example at 0x7f9e8c516128>,\n",
              " <torchtext.data.example.Example at 0x7f9e8c518400>,\n",
              " <torchtext.data.example.Example at 0x7f9e8c518cf8>,\n",
              " <torchtext.data.example.Example at 0x7f9e8c51f320>,\n",
              " <torchtext.data.example.Example at 0x7f9e8c51fc88>,\n",
              " <torchtext.data.example.Example at 0x7f9e8c529710>,\n",
              " <torchtext.data.example.Example at 0x7f9e8c529c88>,\n",
              " <torchtext.data.example.Example at 0x7f9e8c52fc88>,\n",
              " <torchtext.data.example.Example at 0x7f9e8c532c50>,\n",
              " <torchtext.data.example.Example at 0x7f9e8c4b6828>,\n",
              " <torchtext.data.example.Example at 0x7f9e8c4b75f8>,\n",
              " <torchtext.data.example.Example at 0x7f9e8c4b7b00>,\n",
              " <torchtext.data.example.Example at 0x7f9e8c4b9ef0>,\n",
              " <torchtext.data.example.Example at 0x7f9e8c4bf6a0>,\n",
              " <torchtext.data.example.Example at 0x7f9e8c4c2198>,\n",
              " <torchtext.data.example.Example at 0x7f9e8c4c31d0>,\n",
              " <torchtext.data.example.Example at 0x7f9e8c4c5940>,\n",
              " <torchtext.data.example.Example at 0x7f9e8c4c6710>,\n",
              " <torchtext.data.example.Example at 0x7f9e8c4cc278>,\n",
              " <torchtext.data.example.Example at 0x7f9e8c4cd668>,\n",
              " <torchtext.data.example.Example at 0x7f9e8c4ce160>,\n",
              " <torchtext.data.example.Example at 0x7f9e8c4ce780>,\n",
              " <torchtext.data.example.Example at 0x7f9e8c4cf128>,\n",
              " <torchtext.data.example.Example at 0x7f9e8c4cf5f8>,\n",
              " <torchtext.data.example.Example at 0x7f9e8c4cf9b0>,\n",
              " <torchtext.data.example.Example at 0x7f9e8c4d1588>,\n",
              " <torchtext.data.example.Example at 0x7f9e8c4d1a90>,\n",
              " <torchtext.data.example.Example at 0x7f9e8c4d3e10>,\n",
              " <torchtext.data.example.Example at 0x7f9e8c4d60b8>,\n",
              " <torchtext.data.example.Example at 0x7f9e8c4d8208>,\n",
              " <torchtext.data.example.Example at 0x7f9e8c4d8da0>,\n",
              " <torchtext.data.example.Example at 0x7f9e8c4d9588>,\n",
              " <torchtext.data.example.Example at 0x7f9e8c4dc588>,\n",
              " <torchtext.data.example.Example at 0x7f9e8c4dcd68>,\n",
              " <torchtext.data.example.Example at 0x7f9e8c4dd208>,\n",
              " <torchtext.data.example.Example at 0x7f9e8c4df400>,\n",
              " <torchtext.data.example.Example at 0x7f9e8c4df780>,\n",
              " <torchtext.data.example.Example at 0x7f9e8c4e27b8>,\n",
              " <torchtext.data.example.Example at 0x7f9e8c4e35c0>,\n",
              " <torchtext.data.example.Example at 0x7f9e8c4e8710>,\n",
              " <torchtext.data.example.Example at 0x7f9e8c4e8f28>,\n",
              " <torchtext.data.example.Example at 0x7f9e8c4e9fd0>,\n",
              " <torchtext.data.example.Example at 0x7f9e8c4ea6d8>,\n",
              " <torchtext.data.example.Example at 0x7f9e8c4edbe0>,\n",
              " <torchtext.data.example.Example at 0x7f9e8c4ee240>,\n",
              " <torchtext.data.example.Example at 0x7f9e8c4ee908>,\n",
              " <torchtext.data.example.Example at 0x7f9e8c4f1208>,\n",
              " <torchtext.data.example.Example at 0x7f9e8c4f18d0>,\n",
              " <torchtext.data.example.Example at 0x7f9e8c4f1e80>,\n",
              " <torchtext.data.example.Example at 0x7f9e8c4f2d30>,\n",
              " <torchtext.data.example.Example at 0x7f9e8c4f33c8>,\n",
              " <torchtext.data.example.Example at 0x7f9e8c475518>,\n",
              " <torchtext.data.example.Example at 0x7f9e8c476588>,\n",
              " <torchtext.data.example.Example at 0x7f9e8c476ba8>,\n",
              " <torchtext.data.example.Example at 0x7f9e8c477828>,\n",
              " <torchtext.data.example.Example at 0x7f9e8c47ba90>,\n",
              " <torchtext.data.example.Example at 0x7f9e8c4808d0>,\n",
              " <torchtext.data.example.Example at 0x7f9e8c485240>,\n",
              " <torchtext.data.example.Example at 0x7f9e8c485cc0>,\n",
              " <torchtext.data.example.Example at 0x7f9e8c48d8d0>,\n",
              " <torchtext.data.example.Example at 0x7f9e8c48f400>,\n",
              " <torchtext.data.example.Example at 0x7f9e8c491a20>,\n",
              " <torchtext.data.example.Example at 0x7f9e8c491da0>,\n",
              " <torchtext.data.example.Example at 0x7f9e8c492390>,\n",
              " <torchtext.data.example.Example at 0x7f9e8c492fd0>,\n",
              " <torchtext.data.example.Example at 0x7f9e8c494588>,\n",
              " <torchtext.data.example.Example at 0x7f9e8c496240>,\n",
              " <torchtext.data.example.Example at 0x7f9e8c496c50>,\n",
              " <torchtext.data.example.Example at 0x7f9e8c497160>,\n",
              " <torchtext.data.example.Example at 0x7f9e8c49be48>,\n",
              " <torchtext.data.example.Example at 0x7f9e8c49cda0>,\n",
              " <torchtext.data.example.Example at 0x7f9e8c49e320>,\n",
              " <torchtext.data.example.Example at 0x7f9e8c4a2978>,\n",
              " <torchtext.data.example.Example at 0x7f9e8c4a3b38>,\n",
              " <torchtext.data.example.Example at 0x7f9e8c4a3f28>,\n",
              " <torchtext.data.example.Example at 0x7f9e8c4a76d8>,\n",
              " <torchtext.data.example.Example at 0x7f9e8c4a7b70>,\n",
              " <torchtext.data.example.Example at 0x7f9e8c4abf60>,\n",
              " <torchtext.data.example.Example at 0x7f9e8c4ae278>,\n",
              " <torchtext.data.example.Example at 0x7f9e8c4b2860>,\n",
              " <torchtext.data.example.Example at 0x7f9e8c4b3048>,\n",
              " <torchtext.data.example.Example at 0x7f9e8c4b3630>,\n",
              " <torchtext.data.example.Example at 0x7f9e8c434240>,\n",
              " <torchtext.data.example.Example at 0x7f9e8c4351d0>,\n",
              " <torchtext.data.example.Example at 0x7f9e8c435710>,\n",
              " <torchtext.data.example.Example at 0x7f9e8c4385f8>,\n",
              " <torchtext.data.example.Example at 0x7f9e8c436748>,\n",
              " <torchtext.data.example.Example at 0x7f9e8c436fd0>,\n",
              " <torchtext.data.example.Example at 0x7f9e8c43a550>,\n",
              " <torchtext.data.example.Example at 0x7f9e8c43a978>,\n",
              " <torchtext.data.example.Example at 0x7f9e8c43ed30>,\n",
              " <torchtext.data.example.Example at 0x7f9e8c440278>,\n",
              " <torchtext.data.example.Example at 0x7f9e8c440fd0>,\n",
              " <torchtext.data.example.Example at 0x7f9e8c441a58>,\n",
              " <torchtext.data.example.Example at 0x7f9e8c442400>,\n",
              " <torchtext.data.example.Example at 0x7f9e8c443630>,\n",
              " <torchtext.data.example.Example at 0x7f9e8c443d30>,\n",
              " <torchtext.data.example.Example at 0x7f9e8c4467b8>,\n",
              " <torchtext.data.example.Example at 0x7f9e8c447908>,\n",
              " <torchtext.data.example.Example at 0x7f9e8c448a20>,\n",
              " <torchtext.data.example.Example at 0x7f9e8c44b4a8>,\n",
              " <torchtext.data.example.Example at 0x7f9e8c44f198>,\n",
              " <torchtext.data.example.Example at 0x7f9e8c44f630>,\n",
              " <torchtext.data.example.Example at 0x7f9e8c458518>,\n",
              " <torchtext.data.example.Example at 0x7f9e8c458ba8>,\n",
              " <torchtext.data.example.Example at 0x7f9e8c458f98>,\n",
              " <torchtext.data.example.Example at 0x7f9e8c45a668>,\n",
              " <torchtext.data.example.Example at 0x7f9e8c45ab38>,\n",
              " <torchtext.data.example.Example at 0x7f9e8c45e8d0>,\n",
              " <torchtext.data.example.Example at 0x7f9e8c45ecf8>,\n",
              " <torchtext.data.example.Example at 0x7f9e8c45f128>,\n",
              " <torchtext.data.example.Example at 0x7f9e8c45fcf8>,\n",
              " <torchtext.data.example.Example at 0x7f9e8c461518>,\n",
              " <torchtext.data.example.Example at 0x7f9e8c461d30>,\n",
              " <torchtext.data.example.Example at 0x7f9e8c4635c0>,\n",
              " <torchtext.data.example.Example at 0x7f9e8c463b38>,\n",
              " <torchtext.data.example.Example at 0x7f9e8c465710>,\n",
              " <torchtext.data.example.Example at 0x7f9e8c465e10>,\n",
              " <torchtext.data.example.Example at 0x7f9e8c466a58>,\n",
              " <torchtext.data.example.Example at 0x7f9e8c468198>,\n",
              " <torchtext.data.example.Example at 0x7f9e8c46a4e0>,\n",
              " <torchtext.data.example.Example at 0x7f9e8c46b4e0>,\n",
              " <torchtext.data.example.Example at 0x7f9e8c46bba8>,\n",
              " <torchtext.data.example.Example at 0x7f9e8c46ca90>,\n",
              " <torchtext.data.example.Example at 0x7f9e8c46e7f0>,\n",
              " <torchtext.data.example.Example at 0x7f9e8c46f080>,\n",
              " <torchtext.data.example.Example at 0x7f9e8c46f550>,\n",
              " <torchtext.data.example.Example at 0x7f9e8c471c88>,\n",
              " <torchtext.data.example.Example at 0x7f9e8c473b00>,\n",
              " <torchtext.data.example.Example at 0x7f9e8c473f98>,\n",
              " <torchtext.data.example.Example at 0x7f9e8c3f59e8>,\n",
              " <torchtext.data.example.Example at 0x7f9e8c3f6160>,\n",
              " <torchtext.data.example.Example at 0x7f9e8c3f7940>,\n",
              " <torchtext.data.example.Example at 0x7f9e8c3f9c88>,\n",
              " <torchtext.data.example.Example at 0x7f9e8c3fcac8>,\n",
              " <torchtext.data.example.Example at 0x7f9e8c3fa1d0>,\n",
              " <torchtext.data.example.Example at 0x7f9e8c3fe320>,\n",
              " <torchtext.data.example.Example at 0x7f9e8c3feb00>,\n",
              " <torchtext.data.example.Example at 0x7f9e8c4011d0>,\n",
              " <torchtext.data.example.Example at 0x7f9e8c401be0>,\n",
              " <torchtext.data.example.Example at 0x7f9e8c403198>,\n",
              " <torchtext.data.example.Example at 0x7f9e8c4036a0>,\n",
              " <torchtext.data.example.Example at 0x7f9e8c404be0>,\n",
              " <torchtext.data.example.Example at 0x7f9e8c4057b8>,\n",
              " <torchtext.data.example.Example at 0x7f9e8c406be0>,\n",
              " <torchtext.data.example.Example at 0x7f9e8c4092b0>,\n",
              " <torchtext.data.example.Example at 0x7f9e8c409780>,\n",
              " <torchtext.data.example.Example at 0x7f9e8c40a400>,\n",
              " <torchtext.data.example.Example at 0x7f9e8c40ae10>,\n",
              " <torchtext.data.example.Example at 0x7f9e8c40b2e8>,\n",
              " <torchtext.data.example.Example at 0x7f9e8c40b908>,\n",
              " <torchtext.data.example.Example at 0x7f9e8c40c978>,\n",
              " <torchtext.data.example.Example at 0x7f9e8c40e8d0>,\n",
              " <torchtext.data.example.Example at 0x7f9e8c4107f0>,\n",
              " <torchtext.data.example.Example at 0x7f9e8c4136d8>,\n",
              " <torchtext.data.example.Example at 0x7f9e8c416860>,\n",
              " <torchtext.data.example.Example at 0x7f9e8c4170f0>,\n",
              " <torchtext.data.example.Example at 0x7f9e8c417f60>,\n",
              " <torchtext.data.example.Example at 0x7f9e8c41a588>,\n",
              " <torchtext.data.example.Example at 0x7f9e8c41c710>,\n",
              " <torchtext.data.example.Example at 0x7f9e8c41cd68>,\n",
              " <torchtext.data.example.Example at 0x7f9e8c41f358>,\n",
              " <torchtext.data.example.Example at 0x7f9e8c41fef0>,\n",
              " <torchtext.data.example.Example at 0x7f9e8c421630>,\n",
              " <torchtext.data.example.Example at 0x7f9e8c421c88>,\n",
              " <torchtext.data.example.Example at 0x7f9e8c425518>,\n",
              " <torchtext.data.example.Example at 0x7f9e8c428128>,\n",
              " <torchtext.data.example.Example at 0x7f9e8c428c50>,\n",
              " <torchtext.data.example.Example at 0x7f9e8c42a0f0>,\n",
              " <torchtext.data.example.Example at 0x7f9e8c42d390>,\n",
              " <torchtext.data.example.Example at 0x7f9e8c3b8128>,\n",
              " <torchtext.data.example.Example at 0x7f9e8c3b86d8>,\n",
              " <torchtext.data.example.Example at 0x7f9e8c3bb320>,\n",
              " <torchtext.data.example.Example at 0x7f9e8c3bc0f0>,\n",
              " <torchtext.data.example.Example at 0x7f9e8c3bcac8>,\n",
              " <torchtext.data.example.Example at 0x7f9e8c3c0748>,\n",
              " <torchtext.data.example.Example at 0x7f9e8c3c10f0>,\n",
              " <torchtext.data.example.Example at 0x7f9e8c3c1588>,\n",
              " <torchtext.data.example.Example at 0x7f9e8c3c22b0>,\n",
              " <torchtext.data.example.Example at 0x7f9e8c3c25c0>,\n",
              " <torchtext.data.example.Example at 0x7f9e8c3c6550>,\n",
              " <torchtext.data.example.Example at 0x7f9e8c3c8ac8>,\n",
              " <torchtext.data.example.Example at 0x7f9e8c3cbf28>,\n",
              " <torchtext.data.example.Example at 0x7f9e8c3cc3c8>,\n",
              " <torchtext.data.example.Example at 0x7f9e8c3cc748>,\n",
              " <torchtext.data.example.Example at 0x7f9e8c3ccd68>,\n",
              " <torchtext.data.example.Example at 0x7f9e8c3d2048>,\n",
              " <torchtext.data.example.Example at 0x7f9e8c3d2b38>,\n",
              " <torchtext.data.example.Example at 0x7f9e8c3d1128>,\n",
              " <torchtext.data.example.Example at 0x7f9e8c3d15f8>,\n",
              " <torchtext.data.example.Example at 0x7f9e8c3d1b00>,\n",
              " <torchtext.data.example.Example at 0x7f9e8c3d4c18>,\n",
              " <torchtext.data.example.Example at 0x7f9e8c3d6668>,\n",
              " <torchtext.data.example.Example at 0x7f9e8c3d9160>,\n",
              " <torchtext.data.example.Example at 0x7f9e8c3d94a8>,\n",
              " <torchtext.data.example.Example at 0x7f9e8c3dabe0>,\n",
              " <torchtext.data.example.Example at 0x7f9e8c3db2e8>,\n",
              " <torchtext.data.example.Example at 0x7f9e8c3dbb38>,\n",
              " <torchtext.data.example.Example at 0x7f9e8c3df860>,\n",
              " <torchtext.data.example.Example at 0x7f9e8c3dfdd8>,\n",
              " <torchtext.data.example.Example at 0x7f9e8c3e2f60>,\n",
              " <torchtext.data.example.Example at 0x7f9e8c3e3390>,\n",
              " <torchtext.data.example.Example at 0x7f9e8c3e39b0>,\n",
              " <torchtext.data.example.Example at 0x7f9e8c3e7630>,\n",
              " <torchtext.data.example.Example at 0x7f9e8c3e7cf8>,\n",
              " <torchtext.data.example.Example at 0x7f9e8c3e8cf8>,\n",
              " <torchtext.data.example.Example at 0x7f9e8c3e9198>,\n",
              " <torchtext.data.example.Example at 0x7f9e8c3e9898>,\n",
              " <torchtext.data.example.Example at 0x7f9e8c3ef668>,\n",
              " <torchtext.data.example.Example at 0x7f9e8c3eff98>,\n",
              " <torchtext.data.example.Example at 0x7f9e8c3f1358>,\n",
              " <torchtext.data.example.Example at 0x7f9e8c374b70>,\n",
              " <torchtext.data.example.Example at 0x7f9e8c3765f8>,\n",
              " <torchtext.data.example.Example at 0x7f9e8c376b70>,\n",
              " <torchtext.data.example.Example at 0x7f9e8c377be0>,\n",
              " <torchtext.data.example.Example at 0x7f9e8c3783c8>,\n",
              " <torchtext.data.example.Example at 0x7f9e8c380d30>,\n",
              " <torchtext.data.example.Example at 0x7f9e8c383ef0>,\n",
              " <torchtext.data.example.Example at 0x7f9e8c384f28>,\n",
              " <torchtext.data.example.Example at 0x7f9e8c385630>,\n",
              " <torchtext.data.example.Example at 0x7f9e8c385a90>,\n",
              " <torchtext.data.example.Example at 0x7f9e8c386240>,\n",
              " <torchtext.data.example.Example at 0x7f9e8c386898>,\n",
              " <torchtext.data.example.Example at 0x7f9e8c386f98>,\n",
              " <torchtext.data.example.Example at 0x7f9e8c38b6d8>,\n",
              " <torchtext.data.example.Example at 0x7f9e8c38be10>,\n",
              " <torchtext.data.example.Example at 0x7f9e8c38d320>,\n",
              " <torchtext.data.example.Example at 0x7f9e8c38f278>,\n",
              " <torchtext.data.example.Example at 0x7f9e8c38f908>,\n",
              " <torchtext.data.example.Example at 0x7f9e8c391278>,\n",
              " <torchtext.data.example.Example at 0x7f9e8c395c50>,\n",
              " <torchtext.data.example.Example at 0x7f9e8c397f28>,\n",
              " <torchtext.data.example.Example at 0x7f9e8c398908>,\n",
              " <torchtext.data.example.Example at 0x7f9e8c3990b8>,\n",
              " <torchtext.data.example.Example at 0x7f9e8c399908>,\n",
              " <torchtext.data.example.Example at 0x7f9e8c39c390>,\n",
              " <torchtext.data.example.Example at 0x7f9e8c39cba8>,\n",
              " <torchtext.data.example.Example at 0x7f9e8c3a1898>,\n",
              " <torchtext.data.example.Example at 0x7f9e8c3a1e10>,\n",
              " <torchtext.data.example.Example at 0x7f9e8c3a56a0>,\n",
              " <torchtext.data.example.Example at 0x7f9e8c3a7b70>,\n",
              " <torchtext.data.example.Example at 0x7f9e8c3ac550>,\n",
              " <torchtext.data.example.Example at 0x7f9e8c3b0a20>,\n",
              " <torchtext.data.example.Example at 0x7f9e8c3b2fd0>,\n",
              " <torchtext.data.example.Example at 0x7f9e8c3b3630>,\n",
              " <torchtext.data.example.Example at 0x7f9e8c3b3a20>,\n",
              " <torchtext.data.example.Example at 0x7f9e8c3b3c18>,\n",
              " <torchtext.data.example.Example at 0x7f9e8c3354e0>,\n",
              " <torchtext.data.example.Example at 0x7f9e8c3358d0>,\n",
              " <torchtext.data.example.Example at 0x7f9e8c335f60>,\n",
              " <torchtext.data.example.Example at 0x7f9e8c3377b8>,\n",
              " <torchtext.data.example.Example at 0x7f9e8c337fd0>,\n",
              " <torchtext.data.example.Example at 0x7f9e8c33c048>,\n",
              " <torchtext.data.example.Example at 0x7f9e8c33c978>,\n",
              " <torchtext.data.example.Example at 0x7f9e8c33ce48>,\n",
              " <torchtext.data.example.Example at 0x7f9e8c33d358>,\n",
              " <torchtext.data.example.Example at 0x7f9e8c340240>,\n",
              " <torchtext.data.example.Example at 0x7f9e8c3406a0>,\n",
              " <torchtext.data.example.Example at 0x7f9e8c340be0>,\n",
              " <torchtext.data.example.Example at 0x7f9e8c347978>,\n",
              " <torchtext.data.example.Example at 0x7f9e8c347f28>,\n",
              " <torchtext.data.example.Example at 0x7f9e8c34a898>,\n",
              " <torchtext.data.example.Example at 0x7f9e8c34c0b8>,\n",
              " <torchtext.data.example.Example at 0x7f9e8c34c908>,\n",
              " <torchtext.data.example.Example at 0x7f9e8c34e748>,\n",
              " <torchtext.data.example.Example at 0x7f9e8c34f630>,\n",
              " <torchtext.data.example.Example at 0x7f9e8c3506d8>,\n",
              " <torchtext.data.example.Example at 0x7f9e8c351128>,\n",
              " <torchtext.data.example.Example at 0x7f9e8c3519b0>,\n",
              " <torchtext.data.example.Example at 0x7f9e8c353da0>,\n",
              " <torchtext.data.example.Example at 0x7f9e8c359ef0>,\n",
              " <torchtext.data.example.Example at 0x7f9e8c35b6a0>,\n",
              " <torchtext.data.example.Example at 0x7f9e8c35a278>,\n",
              " <torchtext.data.example.Example at 0x7f9e8c35aba8>,\n",
              " <torchtext.data.example.Example at 0x7f9e8c35d0b8>,\n",
              " <torchtext.data.example.Example at 0x7f9e8c35f3c8>,\n",
              " <torchtext.data.example.Example at 0x7f9e8c35fba8>,\n",
              " <torchtext.data.example.Example at 0x7f9e8c360438>,\n",
              " <torchtext.data.example.Example at 0x7f9e8c360f28>,\n",
              " <torchtext.data.example.Example at 0x7f9e8c363438>,\n",
              " <torchtext.data.example.Example at 0x7f9e8c3656a0>,\n",
              " <torchtext.data.example.Example at 0x7f9e8c3687b8>,\n",
              " <torchtext.data.example.Example at 0x7f9e8c3690b8>,\n",
              " <torchtext.data.example.Example at 0x7f9e8c3693c8>,\n",
              " <torchtext.data.example.Example at 0x7f9e8c369710>,\n",
              " <torchtext.data.example.Example at 0x7f9e8c36cd68>,\n",
              " <torchtext.data.example.Example at 0x7f9e8c36d7f0>,\n",
              " <torchtext.data.example.Example at 0x7f9e8c371c50>,\n",
              " <torchtext.data.example.Example at 0x7f9e8c2f4390>,\n",
              " <torchtext.data.example.Example at 0x7f9e8c2f4a20>,\n",
              " <torchtext.data.example.Example at 0x7f9e8c2f4f98>,\n",
              " <torchtext.data.example.Example at 0x7f9e8c2f6438>,\n",
              " <torchtext.data.example.Example at 0x7f9e8c2f9470>,\n",
              " <torchtext.data.example.Example at 0x7f9e8c2f9ef0>,\n",
              " <torchtext.data.example.Example at 0x7f9e8c2fb400>,\n",
              " <torchtext.data.example.Example at 0x7f9e8c2fba20>,\n",
              " <torchtext.data.example.Example at 0x7f9e8c2ff9e8>,\n",
              " <torchtext.data.example.Example at 0x7f9e8c2fff98>,\n",
              " <torchtext.data.example.Example at 0x7f9e8c306b70>,\n",
              " <torchtext.data.example.Example at 0x7f9e8c3083c8>,\n",
              " <torchtext.data.example.Example at 0x7f9e8c308748>,\n",
              " <torchtext.data.example.Example at 0x7f9e8c309a90>,\n",
              " <torchtext.data.example.Example at 0x7f9e8c30cc50>,\n",
              " <torchtext.data.example.Example at 0x7f9e8c30d358>,\n",
              " <torchtext.data.example.Example at 0x7f9e8c30d940>,\n",
              " <torchtext.data.example.Example at 0x7f9e8c30fb70>,\n",
              " <torchtext.data.example.Example at 0x7f9e8c3110f0>,\n",
              " <torchtext.data.example.Example at 0x7f9e8c314978>,\n",
              " <torchtext.data.example.Example at 0x7f9e8c314f60>,\n",
              " <torchtext.data.example.Example at 0x7f9e8c3154e0>,\n",
              " <torchtext.data.example.Example at 0x7f9e8c315a90>,\n",
              " <torchtext.data.example.Example at 0x7f9e8c3168d0>,\n",
              " <torchtext.data.example.Example at 0x7f9e8c3177b8>,\n",
              " <torchtext.data.example.Example at 0x7f9e8c31a400>,\n",
              " <torchtext.data.example.Example at 0x7f9e8c31bcc0>,\n",
              " <torchtext.data.example.Example at 0x7f9e8c31c208>,\n",
              " <torchtext.data.example.Example at 0x7f9e8c31cfd0>,\n",
              " <torchtext.data.example.Example at 0x7f9e8c31ec18>,\n",
              " <torchtext.data.example.Example at 0x7f9e8c31f0f0>,\n",
              " <torchtext.data.example.Example at 0x7f9e8c31f860>,\n",
              " <torchtext.data.example.Example at 0x7f9e8c31fcc0>,\n",
              " <torchtext.data.example.Example at 0x7f9e8c320518>,\n",
              " <torchtext.data.example.Example at 0x7f9e8c324978>,\n",
              " <torchtext.data.example.Example at 0x7f9e8c324f28>,\n",
              " <torchtext.data.example.Example at 0x7f9e8c325a90>,\n",
              " <torchtext.data.example.Example at 0x7f9e8c326198>,\n",
              " <torchtext.data.example.Example at 0x7f9e8c326cc0>,\n",
              " <torchtext.data.example.Example at 0x7f9e8c329d68>,\n",
              " <torchtext.data.example.Example at 0x7f9e8c32bc88>,\n",
              " <torchtext.data.example.Example at 0x7f9e8c32c438>,\n",
              " <torchtext.data.example.Example at 0x7f9e8c32ea90>,\n",
              " <torchtext.data.example.Example at 0x7f9e8c32f198>,\n",
              " <torchtext.data.example.Example at 0x7f9e8c32fa58>,\n",
              " <torchtext.data.example.Example at 0x7f9e8c331160>,\n",
              " <torchtext.data.example.Example at 0x7f9e8c331ac8>,\n",
              " <torchtext.data.example.Example at 0x7f9e8c331eb8>,\n",
              " <torchtext.data.example.Example at 0x7f9e8c2b5128>,\n",
              " <torchtext.data.example.Example at 0x7f9e8c2b59e8>,\n",
              " <torchtext.data.example.Example at 0x7f9e8c2b71d0>,\n",
              " <torchtext.data.example.Example at 0x7f9e8c2b8828>,\n",
              " <torchtext.data.example.Example at 0x7f9e8c2b92e8>,\n",
              " <torchtext.data.example.Example at 0x7f9e8c2b9668>,\n",
              " <torchtext.data.example.Example at 0x7f9e8c2b9da0>,\n",
              " <torchtext.data.example.Example at 0x7f9e8c2ba2b0>,\n",
              " <torchtext.data.example.Example at 0x7f9e8c2bad68>,\n",
              " <torchtext.data.example.Example at 0x7f9e8c2c00f0>,\n",
              " <torchtext.data.example.Example at 0x7f9e8c2c0a20>,\n",
              " <torchtext.data.example.Example at 0x7f9e8c2c3358>,\n",
              " <torchtext.data.example.Example at 0x7f9e8c2c3e48>,\n",
              " <torchtext.data.example.Example at 0x7f9e8c2c84e0>,\n",
              " <torchtext.data.example.Example at 0x7f9e8c2c8b38>,\n",
              " <torchtext.data.example.Example at 0x7f9e8c2c98d0>,\n",
              " <torchtext.data.example.Example at 0x7f9e8c2ce898>,\n",
              " <torchtext.data.example.Example at 0x7f9e8c2d1588>,\n",
              " <torchtext.data.example.Example at 0x7f9e8c2d1a20>,\n",
              " <torchtext.data.example.Example at 0x7f9e8c2d2f60>,\n",
              " <torchtext.data.example.Example at 0x7f9e8c2d4588>,\n",
              " <torchtext.data.example.Example at 0x7f9e8c2d4c18>,\n",
              " <torchtext.data.example.Example at 0x7f9e8c2d50b8>,\n",
              " <torchtext.data.example.Example at 0x7f9e8c2d5ef0>,\n",
              " <torchtext.data.example.Example at 0x7f9e8c2d81d0>,\n",
              " <torchtext.data.example.Example at 0x7f9e8c2d8940>,\n",
              " <torchtext.data.example.Example at 0x7f9e8c2dd128>,\n",
              " <torchtext.data.example.Example at 0x7f9e8c2ddda0>,\n",
              " <torchtext.data.example.Example at 0x7f9e8c2df978>,\n",
              " <torchtext.data.example.Example at 0x7f9e8c2e08d0>,\n",
              " <torchtext.data.example.Example at 0x7f9e8c2e2828>,\n",
              " <torchtext.data.example.Example at 0x7f9e8c2e2e80>,\n",
              " <torchtext.data.example.Example at 0x7f9e8c2e42e8>,\n",
              " <torchtext.data.example.Example at 0x7f9e8c2e6208>,\n",
              " <torchtext.data.example.Example at 0x7f9e8c2e6630>,\n",
              " <torchtext.data.example.Example at 0x7f9e8c2e86a0>,\n",
              " <torchtext.data.example.Example at 0x7f9e8c2ebba8>,\n",
              " <torchtext.data.example.Example at 0x7f9e8c2ea208>,\n",
              " <torchtext.data.example.Example at 0x7f9e8c2edef0>,\n",
              " ...]"
            ]
          },
          "metadata": {
            "tags": []
          },
          "execution_count": 26
        }
      ]
    },
    {
      "cell_type": "code",
      "metadata": {
        "id": "x_CVtlCL9HqS"
      },
      "source": [
        "MAX_VOCAB_SIZE = 25000\n",
        "TEXT.build_vocab(train_data,max_size=MAX_VOCAB_SIZE)\n",
        "SCORE.build_vocab(train_data)"
      ],
      "execution_count": null,
      "outputs": []
    },
    {
      "cell_type": "markdown",
      "metadata": {
        "id": "ojggcOEm9HqU"
      },
      "source": [
        "Why do we only build the vocabulary on the training set? When testing any machine learning system you do not want to look at the test set in any way. We do not include the validation set as we want it to reflect the test set as much as possible."
      ]
    },
    {
      "cell_type": "code",
      "metadata": {
        "id": "JpQuyT6R9HqV",
        "colab": {
          "base_uri": "https://localhost:8080/"
        },
        "outputId": "369206b7-dc47-40b2-d139-6fedfe4d25d3"
      },
      "source": [
        "print(f\"Unique tokens in TEXT vocabulary: {len(TEXT.vocab)}\")\n",
        "print(f\"Unique tokens in LABEL vocabulary: {len(SCORE.vocab)}\")"
      ],
      "execution_count": null,
      "outputs": [
        {
          "output_type": "stream",
          "text": [
            "Unique tokens in TEXT vocabulary: 25002\n",
            "Unique tokens in LABEL vocabulary: 2\n"
          ],
          "name": "stdout"
        }
      ]
    },
    {
      "cell_type": "markdown",
      "metadata": {
        "id": "hZ8FTDF49HqX"
      },
      "source": [
        "Why is the vocab size 25002 and not 25000? One of the addition tokens is the `<unk>` token and the other is a `<pad>` token.\n",
        "\n",
        "When we feed sentences into our model, we feed a _batch_ of them at a time, i.e. more than one at a time, and all sentences in the batch need to be the same size. Thus, to ensure each sentence in the batch is the same size, any shorter than the longest within the batch are padded.\n",
        "\n",
        "![](https://github.com/bentrevett/pytorch-sentiment-analysis/blob/master/assets/sentiment6.png?raw=1)\n",
        "\n",
        "We can also view the most common words in the vocabulary and their frequencies."
      ]
    },
    {
      "cell_type": "code",
      "metadata": {
        "id": "JOXCnKVf9HqX",
        "colab": {
          "base_uri": "https://localhost:8080/"
        },
        "outputId": "1b33b829-ba56-4316-9e95-c46106da0c6f"
      },
      "source": [
        "print(TEXT.vocab.freqs.most_common(20))"
      ],
      "execution_count": null,
      "outputs": [
        {
          "output_type": "stream",
          "text": [
            "[('.', 1315146), (',', 940377), ('the', 886603), ('I', 863948), ('and', 694214), ('a', 644390), ('to', 548791), (' ', 545896), ('it', 463482), ('of', 431661), ('is', 408192), ('for', 291231), ('in', 288722), ('this', 281827), ('that', 233009), ('!', 226971), ('my', 202952), ('have', 193157), ('with', 188620), ('you', 183011)]\n"
          ],
          "name": "stdout"
        }
      ]
    },
    {
      "cell_type": "markdown",
      "metadata": {
        "id": "RaaBdhIR9Hqb"
      },
      "source": [
        "We can also see the vocabulary directly using either the `stoi` (**s**tring **to** **i**nt) or `itos` (**i**nt **to**  **s**tring) method."
      ]
    },
    {
      "cell_type": "code",
      "metadata": {
        "id": "DtXS1urx9Hqc",
        "colab": {
          "base_uri": "https://localhost:8080/"
        },
        "outputId": "2fbc2f9d-5ad2-41e8-8215-1a367d38dfe3"
      },
      "source": [
        "print(TEXT.vocab.itos[:10])"
      ],
      "execution_count": null,
      "outputs": [
        {
          "output_type": "stream",
          "text": [
            "['<unk>', '<pad>', '.', ',', 'the', 'I', 'and', 'a', 'to', ' ']\n"
          ],
          "name": "stdout"
        }
      ]
    },
    {
      "cell_type": "markdown",
      "metadata": {
        "id": "gn46CCD49Hqe"
      },
      "source": [
        "We can also check the labels, ensuring 0 is for negative and 1 is for positive."
      ]
    },
    {
      "cell_type": "code",
      "metadata": {
        "id": "tVQiPYiv9Hqf",
        "colab": {
          "base_uri": "https://localhost:8080/"
        },
        "outputId": "f024ed11-c219-4615-e6a6-7d4f374a390a"
      },
      "source": [
        "print(SCORE.vocab.stoi)"
      ],
      "execution_count": null,
      "outputs": [
        {
          "output_type": "stream",
          "text": [
            "defaultdict(<function _default_unk_index at 0x7f9ef0c4a048>, {'1': 0, '0': 1})\n"
          ],
          "name": "stdout"
        }
      ]
    },
    {
      "cell_type": "markdown",
      "metadata": {
        "id": "6cqoRgy49Hqi"
      },
      "source": [
        "The final step of preparing the data is creating the iterators. We iterate over these in the training/evaluation loop, and they return a batch of examples (indexed and converted into tensors) at each iteration.\n",
        "\n",
        "We'll use a `BucketIterator` which is a special type of iterator that will return a batch of examples where each example is of a similar length, minimizing the amount of padding per example.\n",
        "\n",
        "We also want to place the tensors returned by the iterator on the GPU (if you're using one). PyTorch handles this using `torch.device`, we then pass this device to the iterator."
      ]
    },
    {
      "cell_type": "code",
      "metadata": {
        "id": "pRIIE5Wn9Hqi"
      },
      "source": [
        "BATCH_SIZE = 64\n",
        " \n",
        "device = torch.device('cuda' if torch.cuda.is_available() else 'cpu')\n",
        "\"\"\"\n",
        "train_iterator, valid_iterator, test_iterator = data.BucketIterator.splits(\n",
        "    (train_data, valid_data, test_data), \n",
        "    batch_size = BATCH_SIZE,\n",
        "    device = device)\n",
        "device = torch.device('cuda' if torch.cuda.is_available() else 'cpu')\n",
        " \n",
        "BATCH_SIZE = 1\n",
        "\"\"\"\n",
        "train_iterator, valid_iterator, test_iterator = data.BucketIterator.splits(\n",
        "    (train_data, valid_data, test_data),\n",
        "    sort = False, #don't sort test/validation data\n",
        "    batch_size=BATCH_SIZE,\n",
        "    device=device)\n",
        " \n",
        "train_iterator, valid_iterator, test_iterator = data.BucketIterator.splits(\n",
        "    (train_data, valid_data, test_data),\n",
        "    sort_key = lambda x: x.s, #sort by s attribute (quote)\n",
        "    batch_size=BATCH_SIZE,\n",
        "    device=device)"
      ],
      "execution_count": null,
      "outputs": []
    },
    {
      "cell_type": "markdown",
      "metadata": {
        "id": "rdeDhn5F9Hql"
      },
      "source": [
        "## Build the Model\n",
        "\n",
        "The next stage is building the model that we'll eventually train and evaluate. \n",
        "\n",
        "There is a small amount of boilerplate code when creating models in PyTorch, note how our `RNN` class is a sub-class of `nn.Module` and the use of `super`.\n",
        "\n",
        "Within the `__init__` we define the _layers_ of the module. Our three layers are an _embedding_ layer, our RNN, and a _linear_ layer. All layers have their parameters initialized to random values, unless explicitly specified.\n",
        "\n",
        "The embedding layer is used to transform our sparse one-hot vector (sparse as most of the elements are 0) into a dense embedding vector (dense as the dimensionality is a lot smaller and all the elements are real numbers). This embedding layer is simply a single fully connected layer. As well as reducing the dimensionality of the input to the RNN, there is the theory that words which have similar impact on the sentiment of the review are mapped close together in this dense vector space. For more information about word embeddings, see [here](https://monkeylearn.com/blog/word-embeddings-transform-text-numbers/).\n",
        "\n",
        "The RNN layer is our RNN which takes in our dense vector and the previous hidden state $h_{t-1}$, which it uses to calculate the next hidden state, $h_t$.\n",
        "\n",
        "![](https://github.com/bentrevett/pytorch-sentiment-analysis/blob/master/assets/sentiment7.png?raw=1)\n",
        "\n",
        "Finally, the linear layer takes the final hidden state and feeds it through a fully connected layer, $f(h_T)$, transforming it to the correct output dimension.\n",
        "\n",
        "The `forward` method is called when we feed examples into our model.\n",
        "\n",
        "Each batch, `text`, is a tensor of size _**[sentence length, batch size]**_. That is a batch of sentences, each having each word converted into a one-hot vector. \n",
        "\n",
        "You may notice that this tensor should have another dimension due to the one-hot vectors, however PyTorch conveniently stores a one-hot vector as it's index value, i.e. the tensor representing a sentence is just a tensor of the indexes for each token in that sentence. The act of converting a list of tokens into a list of indexes is commonly called *numericalizing*.\n",
        "\n",
        "The input batch is then passed through the embedding layer to get `embedded`, which gives us a dense vector representation of our sentences. `embedded` is a tensor of size _**[sentence length, batch size, embedding dim]**_.\n",
        "\n",
        "`embedded` is then fed into the RNN. In some frameworks you must feed the initial hidden state, $h_0$, into the RNN, however in PyTorch, if no initial hidden state is passed as an argument it defaults to a tensor of all zeros.\n",
        "\n",
        "The RNN returns 2 tensors, `output` of size _**[sentence length, batch size, hidden dim]**_ and `hidden` of size _**[1, batch size, hidden dim]**_. `output` is the concatenation of the hidden state from every time step, whereas `hidden` is simply the final hidden state. We verify this using the `assert` statement. Note the `squeeze` method, which is used to remove a dimension of size 1. \n",
        "\n",
        "Finally, we feed the last hidden state, `hidden`, through the linear layer, `fc`, to produce a prediction."
      ]
    },
    {
      "cell_type": "code",
      "metadata": {
        "id": "invYjDfn9Hql"
      },
      "source": [
        "import torch.nn as nn\n",
        "\n",
        "class RNN(nn.Module):\n",
        "    def __init__(self, input_dim, embedding_dim, hidden_dim, output_dim):\n",
        "        \n",
        "        super().__init__()\n",
        "        \n",
        "        self.embedding = nn.Embedding(input_dim, embedding_dim)\n",
        "        \n",
        "        self.rnn = nn.RNN(embedding_dim, hidden_dim)\n",
        "        \n",
        "        self.fc = nn.Linear(hidden_dim, output_dim)\n",
        "        \n",
        "    def forward(self, text):\n",
        "\n",
        "        #text = [sent len, batch size]\n",
        "        \n",
        "        embedded = self.embedding(text)\n",
        "        \n",
        "        #embedded = [sent len, batch size, emb dim]\n",
        "        \n",
        "        output, hidden = self.rnn(embedded)\n",
        "        \n",
        "        #output = [sent len, batch size, hid dim]\n",
        "        #hidden = [1, batch size, hid dim]\n",
        "        \n",
        "        assert torch.equal(output[-1,:,:], hidden.squeeze(0))\n",
        "        \n",
        "        return self.fc(hidden.squeeze(0))"
      ],
      "execution_count": null,
      "outputs": []
    },
    {
      "cell_type": "markdown",
      "metadata": {
        "id": "5oj91pf59Hqo"
      },
      "source": [
        "We now create an instance of our RNN class. \n",
        "\n",
        "The input dimension is the dimension of the one-hot vectors, which is equal to the vocabulary size. \n",
        "\n",
        "The embedding dimension is the size of the dense word vectors. This is usually around 50-250 dimensions, but depends on the size of the vocabulary.\n",
        "\n",
        "The hidden dimension is the size of the hidden states. This is usually around 100-500 dimensions, but also depends on factors such as on the vocabulary size, the size of the dense vectors and the complexity of the task.\n",
        "\n",
        "The output dimension is usually the number of classes, however in the case of only 2 classes the output value is between 0 and 1 and thus can be 1-dimensional, i.e. a single scalar real number."
      ]
    },
    {
      "cell_type": "code",
      "metadata": {
        "id": "0BMmfDeD9Hqo"
      },
      "source": [
        "INPUT_DIM = len(TEXT.vocab)\n",
        "EMBEDDING_DIM = 100\n",
        "HIDDEN_DIM = 256\n",
        "OUTPUT_DIM = 1\n",
        "\n",
        "model = RNN(INPUT_DIM, EMBEDDING_DIM, HIDDEN_DIM, OUTPUT_DIM)"
      ],
      "execution_count": null,
      "outputs": []
    },
    {
      "cell_type": "markdown",
      "metadata": {
        "id": "SN48Gyeq9Hqr"
      },
      "source": [
        "Let's also create a function that will tell us how many trainable parameters our model has so we can compare the number of parameters across different models."
      ]
    },
    {
      "cell_type": "code",
      "metadata": {
        "id": "9XDor1hm9Hqs",
        "colab": {
          "base_uri": "https://localhost:8080/"
        },
        "outputId": "691c9cac-2c54-4c00-ffd7-9faae30ef2d1"
      },
      "source": [
        "def count_parameters(model):\n",
        "    return sum(p.numel() for p in model.parameters() if p.requires_grad)\n",
        "\n",
        "print(f'The model has {count_parameters(model):,} trainable parameters')"
      ],
      "execution_count": null,
      "outputs": [
        {
          "output_type": "stream",
          "text": [
            "The model has 2,592,105 trainable parameters\n"
          ],
          "name": "stdout"
        }
      ]
    },
    {
      "cell_type": "markdown",
      "metadata": {
        "id": "Ji20kG_g9Hqv"
      },
      "source": [
        "## Train the Model"
      ]
    },
    {
      "cell_type": "markdown",
      "metadata": {
        "id": "93qtOsnv9Hqw"
      },
      "source": [
        "Now we'll set up the training and then train the model.\n",
        "\n",
        "First, we'll create an optimizer. This is the algorithm we use to update the parameters of the module. Here, we'll use _stochastic gradient descent_ (SGD). The first argument is the parameters will be updated by the optimizer, the second is the learning rate, i.e. how much we'll change the parameters by when we do a parameter update."
      ]
    },
    {
      "cell_type": "code",
      "metadata": {
        "id": "fDqm33Jf9Hqw"
      },
      "source": [
        "import torch.optim as optim\n",
        "\n",
        "optimizer = optim.SGD(model.parameters(), lr=1e-3)"
      ],
      "execution_count": null,
      "outputs": []
    },
    {
      "cell_type": "markdown",
      "metadata": {
        "id": "eqbdJgCs9Hqy"
      },
      "source": [
        "Next, we'll define our loss function. In PyTorch this is commonly called a criterion. \n",
        "\n",
        "The loss function here is _binary cross entropy with logits_. \n",
        "\n",
        "Our model currently outputs an unbound real number. As our labels are either 0 or 1, we want to restrict the predictions to a number between 0 and 1. We do this using the _sigmoid_ or _logit_ functions. \n",
        "\n",
        "We then use this this bound scalar to calculate the loss using binary cross entropy. \n",
        "\n",
        "The `BCEWithLogitsLoss` criterion carries out both the sigmoid and the binary cross entropy steps."
      ]
    },
    {
      "cell_type": "code",
      "metadata": {
        "id": "96UNZdjz9Hqz"
      },
      "source": [
        "criterion = nn.BCEWithLogitsLoss()"
      ],
      "execution_count": null,
      "outputs": []
    },
    {
      "cell_type": "markdown",
      "metadata": {
        "id": "NBeZKMjo9Hq1"
      },
      "source": [
        "Using `.to`, we can place the model and the criterion on the GPU (if we have one). "
      ]
    },
    {
      "cell_type": "code",
      "metadata": {
        "id": "7O8YbsyC9Hq1"
      },
      "source": [
        "model = model.to(device)\n",
        "criterion = criterion.to(device)"
      ],
      "execution_count": null,
      "outputs": []
    },
    {
      "cell_type": "markdown",
      "metadata": {
        "id": "guO6_7xj9Hq4"
      },
      "source": [
        "Our criterion function calculates the loss, however we have to write our function to calculate the accuracy. \n",
        "\n",
        "This function first feeds the predictions through a sigmoid layer, squashing the values between 0 and 1, we then round them to the nearest integer. This rounds any value greater than 0.5 to 1 (a positive sentiment) and the rest to 0 (a negative sentiment).\n",
        "\n",
        "We then calculate how many rounded predictions equal the actual labels and average it across the batch."
      ]
    },
    {
      "cell_type": "code",
      "metadata": {
        "id": "w7onixwf9Hq4"
      },
      "source": [
        "def binary_accuracy(preds, y):\n",
        "    \"\"\"\n",
        "    Returns accuracy per batch, i.e. if you get 8/10 right, this returns 0.8, NOT 8\n",
        "    \"\"\"\n",
        "\n",
        "    #round predictions to the closest integer\n",
        "    rounded_preds = torch.round(torch.sigmoid(preds))\n",
        "    correct = (rounded_preds == y).float() #convert into float for division \n",
        "    acc = correct.sum() / len(correct)\n",
        "    return acc"
      ],
      "execution_count": null,
      "outputs": []
    },
    {
      "cell_type": "markdown",
      "metadata": {
        "id": "6gM1kaLF9Hq6"
      },
      "source": [
        "The `train` function iterates over all examples, one batch at a time. \n",
        "\n",
        "`model.train()` is used to put the model in \"training mode\", which turns on _dropout_ and _batch normalization_. Although we aren't using them in this model, it's good practice to include it.\n",
        "\n",
        "For each batch, we first zero the gradients. Each parameter in a model has a `grad` attribute which stores the gradient calculated by the `criterion`. PyTorch does not automatically remove (or \"zero\") the gradients calculated from the last gradient calculation, so they must be manually zeroed.\n",
        "\n",
        "We then feed the batch of sentences, `batch.text`, into the model. Note, you do not need to do `model.forward(batch.text)`, simply calling the model works. The `squeeze` is needed as the predictions are initially size _**[batch size, 1]**_, and we need to remove the dimension of size 1 as PyTorch expects the predictions input to our criterion function to be of size _**[batch size]**_.\n",
        "\n",
        "The loss and accuracy are then calculated using our predictions and the labels, `batch.label`, with the loss being averaged over all examples in the batch.\n",
        "\n",
        "We calculate the gradient of each parameter with `loss.backward()`, and then update the parameters using the gradients and optimizer algorithm with `optimizer.step()`.\n",
        "\n",
        "The loss and accuracy is accumulated across the epoch, the `.item()` method is used to extract a scalar from a tensor which only contains a single value.\n",
        "\n",
        "Finally, we return the loss and accuracy, averaged across the epoch. The `len` of an iterator is the number of batches in the iterator.\n",
        "\n",
        "You may recall when initializing the `LABEL` field, we set `dtype=torch.float`. This is because TorchText sets tensors to be `LongTensor`s by default, however our criterion expects both inputs to be `FloatTensor`s. Setting the `dtype` to be `torch.float`, did this for us. The alternative method of doing this would be to do the conversion inside the `train` function by passing `batch.label.float()` instad of `batch.label` to the criterion. "
      ]
    },
    {
      "cell_type": "code",
      "metadata": {
        "id": "OIFHs5tTbUPD"
      },
      "source": [
        "def train(model, iterator, optimizer, criterion):\n",
        "    \n",
        "    epoch_loss = 0\n",
        "    epoch_acc = 0\n",
        "    \n",
        "    model.train()\n",
        "    \n",
        "    for batch in iterator:\n",
        "        \n",
        "        optimizer.zero_grad()\n",
        "                \n",
        "        predictions = model(batch.t).squeeze(1)\n",
        "        \n",
        "        loss = criterion(predictions, batch.s)\n",
        "        \n",
        "        acc = binary_accuracy(predictions, batch.s)\n",
        "        \n",
        "        loss.backward()\n",
        "        \n",
        "        optimizer.step()\n",
        "        \n",
        "        epoch_loss += loss.item()\n",
        "        epoch_acc += acc.item()\n",
        "        \n",
        "    return epoch_loss / len(iterator), epoch_acc / len(iterator)"
      ],
      "execution_count": null,
      "outputs": []
    },
    {
      "cell_type": "code",
      "metadata": {
        "id": "qU81IumF9Hq7"
      },
      "source": [
        "def train(model, iterator, optimizer, criterion):\n",
        "    \n",
        "    epoch_loss = 0\n",
        "    epoch_acc = 0\n",
        "    \n",
        "    model.train()\n",
        "    \n",
        "    for batch in iterator:\n",
        "        \n",
        "        optimizer.zero_grad()\n",
        "                \n",
        "        predictions = model(batch.t).squeeze(1)\n",
        "        \n",
        "        loss = criterion(predictions, batch.s)\n",
        "        \n",
        "        acc = binary_accuracy(predictions, batch.s)\n",
        "        \n",
        "        loss.backward()\n",
        "        \n",
        "        optimizer.step()\n",
        "        \n",
        "        epoch_loss += loss.item()\n",
        "        epoch_acc += acc.item()\n",
        "        \n",
        "    return epoch_loss / len(iterator), epoch_acc / len(iterator)"
      ],
      "execution_count": null,
      "outputs": []
    },
    {
      "cell_type": "markdown",
      "metadata": {
        "id": "qY4onb0X9Hq_"
      },
      "source": [
        "`evaluate` is similar to `train`, with a few modifications as you don't want to update the parameters when evaluating.\n",
        "\n",
        "`model.eval()` puts the model in \"evaluation mode\", this turns off _dropout_ and _batch normalization_. Again, we are not using them in this model, but it is good practice to include them.\n",
        "\n",
        "No gradients are calculated on PyTorch operations inside the `with no_grad()` block. This causes less memory to be used and speeds up computation.\n",
        "\n",
        "The rest of the function is the same as `train`, with the removal of `optimizer.zero_grad()`, `loss.backward()` and `optimizer.step()`, as we do not update the model's parameters when evaluating."
      ]
    },
    {
      "cell_type": "code",
      "metadata": {
        "id": "xORdbgss9Hq_"
      },
      "source": [
        "def evaluate(model, iterator, criterion):\n",
        "    \n",
        "    epoch_loss = 0\n",
        "    epoch_acc = 0\n",
        "    \n",
        "    model.eval()\n",
        "    \n",
        "    with torch.no_grad():\n",
        "    \n",
        "        for batch in iterator:\n",
        "\n",
        "            predictions = model(batch.t).squeeze(1)\n",
        "            \n",
        "            loss = criterion(predictions, batch.s)\n",
        "            \n",
        "            acc = binary_accuracy(predictions, batch.s)\n",
        "            \n",
        "            epoch_loss += loss.item()\n",
        "            epoch_acc += acc.item()\n",
        "        \n",
        "    return epoch_loss / len(iterator), epoch_acc / len(iterator)"
      ],
      "execution_count": null,
      "outputs": []
    },
    {
      "cell_type": "markdown",
      "metadata": {
        "id": "PQ4SYO1x9HrD"
      },
      "source": [
        "We'll also create a function to tell us how long an epoch takes to compare training times between models."
      ]
    },
    {
      "cell_type": "code",
      "metadata": {
        "id": "GstXI6Tj9HrE"
      },
      "source": [
        "import time\n",
        "\n",
        "def epoch_time(start_time, end_time):\n",
        "    elapsed_time = end_time - start_time\n",
        "    elapsed_mins = int(elapsed_time / 60)\n",
        "    elapsed_secs = int(elapsed_time - (elapsed_mins * 60))\n",
        "    return elapsed_mins, elapsed_secs"
      ],
      "execution_count": null,
      "outputs": []
    },
    {
      "cell_type": "markdown",
      "metadata": {
        "id": "n_uERJkP9HrI"
      },
      "source": [
        "We then train the model through multiple epochs, an epoch being a complete pass through all examples in the training and validation sets.\n",
        "\n",
        "At each epoch, if the validation loss is the best we have seen so far, we'll save the parameters of the model and then after training has finished we'll use that model on the test set."
      ]
    },
    {
      "cell_type": "code",
      "metadata": {
        "id": "kR6FAOEe9HrI",
        "colab": {
          "base_uri": "https://localhost:8080/"
        },
        "outputId": "e85bbe98-ae63-4882-9fd1-531e3396f333"
      },
      "source": [
        "trainLosses = []\n",
        "testLosses = []\n",
        "trainAcc = []\n",
        "testAcc = []\n",
        "\n",
        "N_EPOCHS = 5\n",
        "best_valid_loss = float('inf')\n",
        "for epoch in range(N_EPOCHS):\n",
        "    start_time = time.time()\n",
        "    train_loss, train_acc = train(model, train_iterator, optimizer, criterion)\n",
        "    valid_loss, valid_acc = evaluate(model, valid_iterator, criterion)\n",
        "    end_time = time.time()\n",
        "    epoch_mins, epoch_secs = epoch_time(start_time, end_time)\n",
        "\n",
        "    print(f'Epoch: {epoch+1:02} | Epoch Time: {epoch_mins}m {epoch_secs}s')\n",
        "    print(f'\\tTrain Loss: {train_loss:.3f} | Train Acc: {train_acc*100:.2f}%')\n",
        "    print(f'\\t Val. Loss: {valid_loss:.3f} |  Val. Acc: {valid_acc*100:.2f}%')\n",
        "    trainLosses.append(train_loss*100)\n",
        "    testLosses.append(valid_loss*100)\n",
        "    trainAcc.append(train_acc*100)\n",
        "    testAcc.append(valid_acc*100)"
      ],
      "execution_count": null,
      "outputs": [
        {
          "output_type": "stream",
          "text": [
            "Epoch: 01 | Epoch Time: 3m 5s\n",
            "\tTrain Loss: 0.437 | Train Acc: 84.04%\n",
            "\t Val. Loss: 0.436 |  Val. Acc: 84.21%\n",
            "Epoch: 02 | Epoch Time: 3m 5s\n",
            "\tTrain Loss: 0.434 | Train Acc: 84.34%\n",
            "\t Val. Loss: 0.436 |  Val. Acc: 84.30%\n",
            "Epoch: 03 | Epoch Time: 3m 4s\n",
            "\tTrain Loss: 0.434 | Train Acc: 84.36%\n",
            "\t Val. Loss: 0.435 |  Val. Acc: 84.32%\n",
            "Epoch: 04 | Epoch Time: 3m 4s\n",
            "\tTrain Loss: 0.434 | Train Acc: 84.37%\n",
            "\t Val. Loss: 0.435 |  Val. Acc: 84.33%\n",
            "Epoch: 05 | Epoch Time: 3m 4s\n",
            "\tTrain Loss: 0.433 | Train Acc: 84.38%\n",
            "\t Val. Loss: 0.435 |  Val. Acc: 84.34%\n"
          ],
          "name": "stdout"
        }
      ]
    },
    {
      "cell_type": "code",
      "metadata": {
        "colab": {
          "base_uri": "https://localhost:8080/",
          "height": 353
        },
        "id": "2Um0FYAU-BGz",
        "outputId": "a3d438af-eebd-4ef9-fd98-246fb5ee8718"
      },
      "source": [
        "import matplotlib.pyplot as plt\r\n",
        "\r\n",
        "fig, axs = plt.subplots(1,2,figsize=(15,5))\r\n",
        "axs[0].plot(testAcc)\r\n",
        "axs[0].plot(trainAcc)\r\n",
        "axs[0].legend(['Test Accuracy', 'Train Accuracy'], loc='upper left')\r\n",
        "axs[0].set_title(\"Accuracy\")\r\n",
        "axs[1].plot(testLosses)\r\n",
        "axs[1].plot(trainLosses)\r\n",
        "axs[1].legend(['Test Loss', 'Train Loss'], loc='upper left')\r\n",
        "axs[1].set_title(\"Loss\")"
      ],
      "execution_count": null,
      "outputs": [
        {
          "output_type": "execute_result",
          "data": {
            "text/plain": [
              "Text(0.5, 1.0, 'Loss')"
            ]
          },
          "metadata": {
            "tags": []
          },
          "execution_count": 45
        },
        {
          "output_type": "display_data",
          "data": {
            "image/png": "[encoded data removed]",
            "text/plain": [
              "<Figure size 1080x360 with 2 Axes>"
            ]
          },
          "metadata": {
            "tags": [],
            "needs_background": "light"
          }
        }
      ]
    },
    {
      "cell_type": "markdown",
      "metadata": {
        "id": "EWNud_Piw5Do"
      },
      "source": [
        "# New Section"
      ]
    },
    {
      "cell_type": "markdown",
      "metadata": {
        "id": "uxCUOAko9HrK"
      },
      "source": [
        "You may have noticed the loss is not really decreasing and the accuracy is poor. This is due to several issues with the model which we'll improve in the next notebook.\n",
        "\n",
        "Finally, the metric we actually care about, the test loss and accuracy, which we get from our parameters that gave us the best validation loss."
      ]
    },
    {
      "cell_type": "code",
      "metadata": {
        "id": "xoDFH8899HrL",
        "colab": {
          "base_uri": "https://localhost:8080/",
          "height": 374
        },
        "outputId": "291f7f8c-739b-4ca6-bb0f-a0934a7a7a2b"
      },
      "source": [
        "model.load_state_dict(torch.load('tut1-model.pt'))\n",
        "\n",
        "test_loss, test_acc = evaluate(model, test_iterator, criterion)\n",
        "\n",
        "print(f'Test Loss: {test_loss:.3f} | Test Acc: {test_acc*100:.2f}%')"
      ],
      "execution_count": null,
      "outputs": [
        {
          "output_type": "error",
          "ename": "FileNotFoundError",
          "evalue": "ignored",
          "traceback": [
            "\u001b[0;31m---------------------------------------------------------------------------\u001b[0m",
            "\u001b[0;31mFileNotFoundError\u001b[0m                         Traceback (most recent call last)",
            "\u001b[0;32m<ipython-input-46-0b8ecc81f19b>\u001b[0m in \u001b[0;36m<module>\u001b[0;34m()\u001b[0m\n\u001b[0;32m----> 1\u001b[0;31m \u001b[0mmodel\u001b[0m\u001b[0;34m.\u001b[0m\u001b[0mload_state_dict\u001b[0m\u001b[0;34m(\u001b[0m\u001b[0mtorch\u001b[0m\u001b[0;34m.\u001b[0m\u001b[0mload\u001b[0m\u001b[0;34m(\u001b[0m\u001b[0;34m'tut1-model.pt'\u001b[0m\u001b[0;34m)\u001b[0m\u001b[0;34m)\u001b[0m\u001b[0;34m\u001b[0m\u001b[0;34m\u001b[0m\u001b[0m\n\u001b[0m\u001b[1;32m      2\u001b[0m \u001b[0;34m\u001b[0m\u001b[0m\n\u001b[1;32m      3\u001b[0m \u001b[0mtest_loss\u001b[0m\u001b[0;34m,\u001b[0m \u001b[0mtest_acc\u001b[0m \u001b[0;34m=\u001b[0m \u001b[0mevaluate\u001b[0m\u001b[0;34m(\u001b[0m\u001b[0mmodel\u001b[0m\u001b[0;34m,\u001b[0m \u001b[0mtest_iterator\u001b[0m\u001b[0;34m,\u001b[0m \u001b[0mcriterion\u001b[0m\u001b[0;34m)\u001b[0m\u001b[0;34m\u001b[0m\u001b[0;34m\u001b[0m\u001b[0m\n\u001b[1;32m      4\u001b[0m \u001b[0;34m\u001b[0m\u001b[0m\n\u001b[1;32m      5\u001b[0m \u001b[0mprint\u001b[0m\u001b[0;34m(\u001b[0m\u001b[0;34mf'Test Loss: {test_loss:.3f} | Test Acc: {test_acc*100:.2f}%'\u001b[0m\u001b[0;34m)\u001b[0m\u001b[0;34m\u001b[0m\u001b[0;34m\u001b[0m\u001b[0m\n",
            "\u001b[0;32m/usr/local/lib/python3.6/dist-packages/torch/serialization.py\u001b[0m in \u001b[0;36mload\u001b[0;34m(f, map_location, pickle_module, **pickle_load_args)\u001b[0m\n\u001b[1;32m    579\u001b[0m         \u001b[0mpickle_load_args\u001b[0m\u001b[0;34m[\u001b[0m\u001b[0;34m'encoding'\u001b[0m\u001b[0;34m]\u001b[0m \u001b[0;34m=\u001b[0m \u001b[0;34m'utf-8'\u001b[0m\u001b[0;34m\u001b[0m\u001b[0;34m\u001b[0m\u001b[0m\n\u001b[1;32m    580\u001b[0m \u001b[0;34m\u001b[0m\u001b[0m\n\u001b[0;32m--> 581\u001b[0;31m     \u001b[0;32mwith\u001b[0m \u001b[0m_open_file_like\u001b[0m\u001b[0;34m(\u001b[0m\u001b[0mf\u001b[0m\u001b[0;34m,\u001b[0m \u001b[0;34m'rb'\u001b[0m\u001b[0;34m)\u001b[0m \u001b[0;32mas\u001b[0m \u001b[0mopened_file\u001b[0m\u001b[0;34m:\u001b[0m\u001b[0;34m\u001b[0m\u001b[0;34m\u001b[0m\u001b[0m\n\u001b[0m\u001b[1;32m    582\u001b[0m         \u001b[0;32mif\u001b[0m \u001b[0m_is_zipfile\u001b[0m\u001b[0;34m(\u001b[0m\u001b[0mopened_file\u001b[0m\u001b[0;34m)\u001b[0m\u001b[0;34m:\u001b[0m\u001b[0;34m\u001b[0m\u001b[0;34m\u001b[0m\u001b[0m\n\u001b[1;32m    583\u001b[0m             \u001b[0;31m# The zipfile reader is going to advance the current file position.\u001b[0m\u001b[0;34m\u001b[0m\u001b[0;34m\u001b[0m\u001b[0;34m\u001b[0m\u001b[0m\n",
            "\u001b[0;32m/usr/local/lib/python3.6/dist-packages/torch/serialization.py\u001b[0m in \u001b[0;36m_open_file_like\u001b[0;34m(name_or_buffer, mode)\u001b[0m\n\u001b[1;32m    228\u001b[0m \u001b[0;32mdef\u001b[0m \u001b[0m_open_file_like\u001b[0m\u001b[0;34m(\u001b[0m\u001b[0mname_or_buffer\u001b[0m\u001b[0;34m,\u001b[0m \u001b[0mmode\u001b[0m\u001b[0;34m)\u001b[0m\u001b[0;34m:\u001b[0m\u001b[0;34m\u001b[0m\u001b[0;34m\u001b[0m\u001b[0m\n\u001b[1;32m    229\u001b[0m     \u001b[0;32mif\u001b[0m \u001b[0m_is_path\u001b[0m\u001b[0;34m(\u001b[0m\u001b[0mname_or_buffer\u001b[0m\u001b[0;34m)\u001b[0m\u001b[0;34m:\u001b[0m\u001b[0;34m\u001b[0m\u001b[0;34m\u001b[0m\u001b[0m\n\u001b[0;32m--> 230\u001b[0;31m         \u001b[0;32mreturn\u001b[0m \u001b[0m_open_file\u001b[0m\u001b[0;34m(\u001b[0m\u001b[0mname_or_buffer\u001b[0m\u001b[0;34m,\u001b[0m \u001b[0mmode\u001b[0m\u001b[0;34m)\u001b[0m\u001b[0;34m\u001b[0m\u001b[0;34m\u001b[0m\u001b[0m\n\u001b[0m\u001b[1;32m    231\u001b[0m     \u001b[0;32melse\u001b[0m\u001b[0;34m:\u001b[0m\u001b[0;34m\u001b[0m\u001b[0;34m\u001b[0m\u001b[0m\n\u001b[1;32m    232\u001b[0m         \u001b[0;32mif\u001b[0m \u001b[0;34m'w'\u001b[0m \u001b[0;32min\u001b[0m \u001b[0mmode\u001b[0m\u001b[0;34m:\u001b[0m\u001b[0;34m\u001b[0m\u001b[0;34m\u001b[0m\u001b[0m\n",
            "\u001b[0;32m/usr/local/lib/python3.6/dist-packages/torch/serialization.py\u001b[0m in \u001b[0;36m__init__\u001b[0;34m(self, name, mode)\u001b[0m\n\u001b[1;32m    209\u001b[0m \u001b[0;32mclass\u001b[0m \u001b[0m_open_file\u001b[0m\u001b[0;34m(\u001b[0m\u001b[0m_opener\u001b[0m\u001b[0;34m)\u001b[0m\u001b[0;34m:\u001b[0m\u001b[0;34m\u001b[0m\u001b[0;34m\u001b[0m\u001b[0m\n\u001b[1;32m    210\u001b[0m     \u001b[0;32mdef\u001b[0m \u001b[0m__init__\u001b[0m\u001b[0;34m(\u001b[0m\u001b[0mself\u001b[0m\u001b[0;34m,\u001b[0m \u001b[0mname\u001b[0m\u001b[0;34m,\u001b[0m \u001b[0mmode\u001b[0m\u001b[0;34m)\u001b[0m\u001b[0;34m:\u001b[0m\u001b[0;34m\u001b[0m\u001b[0;34m\u001b[0m\u001b[0m\n\u001b[0;32m--> 211\u001b[0;31m         \u001b[0msuper\u001b[0m\u001b[0;34m(\u001b[0m\u001b[0m_open_file\u001b[0m\u001b[0;34m,\u001b[0m \u001b[0mself\u001b[0m\u001b[0;34m)\u001b[0m\u001b[0;34m.\u001b[0m\u001b[0m__init__\u001b[0m\u001b[0;34m(\u001b[0m\u001b[0mopen\u001b[0m\u001b[0;34m(\u001b[0m\u001b[0mname\u001b[0m\u001b[0;34m,\u001b[0m \u001b[0mmode\u001b[0m\u001b[0;34m)\u001b[0m\u001b[0;34m)\u001b[0m\u001b[0;34m\u001b[0m\u001b[0;34m\u001b[0m\u001b[0m\n\u001b[0m\u001b[1;32m    212\u001b[0m \u001b[0;34m\u001b[0m\u001b[0m\n\u001b[1;32m    213\u001b[0m     \u001b[0;32mdef\u001b[0m \u001b[0m__exit__\u001b[0m\u001b[0;34m(\u001b[0m\u001b[0mself\u001b[0m\u001b[0;34m,\u001b[0m \u001b[0;34m*\u001b[0m\u001b[0margs\u001b[0m\u001b[0;34m)\u001b[0m\u001b[0;34m:\u001b[0m\u001b[0;34m\u001b[0m\u001b[0;34m\u001b[0m\u001b[0m\n",
            "\u001b[0;31mFileNotFoundError\u001b[0m: [Errno 2] No such file or directory: 'tut1-model.pt'"
          ]
        }
      ]
    },
    {
      "cell_type": "markdown",
      "metadata": {
        "id": "8qEjbtyuptcq"
      },
      "source": [
        "RNN\n",
        "LSTM single layer\n",
        "Bi LSTM \n",
        "Multi layer LSTM\n",
        "\n"
      ]
    },
    {
      "cell_type": "markdown",
      "metadata": {
        "id": "O7x9mFEM9HrP"
      },
      "source": [
        "## Next Steps\n",
        "\n",
        "In the next notebook, the improvements we will make are:\n",
        "- packed padded sequences\n",
        "- pre-trained word embeddings\n",
        "- different RNN architecture\n",
        "- bidirectional RNN\n",
        "- multi-layer RNN\n",
        "- regularization\n",
        "- a different optimizer\n",
        "\n",
        "This will allow us to achieve ~84% accuracy."
      ]
    }
  ]
}